{
  "nbformat": 4,
  "nbformat_minor": 0,
  "metadata": {
    "colab": {
      "provenance": [],
      "authorship_tag": "ABX9TyMn5o5vLZ8B/6MgrSTWLa+E",
      "include_colab_link": true
    },
    "kernelspec": {
      "name": "python3",
      "display_name": "Python 3"
    },
    "language_info": {
      "name": "python"
    }
  },
  "cells": [
    {
      "cell_type": "markdown",
      "metadata": {
        "id": "view-in-github",
        "colab_type": "text"
      },
      "source": [
        "<a href=\"https://colab.research.google.com/github/KotagiriRohan/MicroGrad/blob/main/Micro_gradient_from_scratch.ipynb\" target=\"_parent\"><img src=\"https://colab.research.google.com/assets/colab-badge.svg\" alt=\"Open In Colab\"/></a>"
      ]
    },
    {
      "cell_type": "code",
      "execution_count": 13,
      "metadata": {
        "id": "vAi8JO8B2DJ1"
      },
      "outputs": [],
      "source": [
        "import math\n",
        "import numpy as np\n",
        "import matplotlib.pyplot as plt\n",
        "import graphviz\n",
        "import random"
      ]
    },
    {
      "cell_type": "code",
      "source": [
        "def draw_graph(root):\n",
        "    dot = graphviz.Digraph(comment=\"Connection Graph\", graph_attr={'rankdir': 'LR'})\n",
        "    nodes = set()\n",
        "\n",
        "    def build(node):\n",
        "        if node not in nodes:\n",
        "            nodes.add(node)\n",
        "            dot.node(name=str(id(node)), label=\"{%s| data %.4f | grad %.4f }\" % (node.lable,node.data, node.grad), shape='record')\n",
        "            if node.op:\n",
        "                dot.node(name=str(id(node)) + node.op, label=node.op)\n",
        "                dot.edge(str(id(node)) + node.op, str(id(node)))\n",
        "            for child in node.prev:\n",
        "                dot.edge(str(id(child)), str(id(node)) + node.op)\n",
        "                build(child)\n",
        "\n",
        "    build(root)\n",
        "    return dot\n",
        "\n",
        "\n",
        "class Value:\n",
        "    def __init__(self, data, children=(), op='', lable=''):\n",
        "        self.data = data\n",
        "        self.prev = set(children)\n",
        "        self.lable = lable\n",
        "        self.grad = 0.0\n",
        "        self._backward = lambda: None\n",
        "        self.op = op\n",
        "\n",
        "    def __add__(self, other):\n",
        "        other = other if isinstance(other, Value) else Value(other)\n",
        "        out = Value(self.data + other.data, (self, other), '+')\n",
        "\n",
        "        def _backward():\n",
        "            self.grad += 1.0 * out.grad\n",
        "            other.grad += 1.0 * out.grad\n",
        "\n",
        "        out._backward = _backward\n",
        "        return out\n",
        "\n",
        "    def __sub__(self, other):  # self - other\n",
        "        return self + (-other)\n",
        "\n",
        "    def __mul__(self, other):\n",
        "        other = other if isinstance(other, Value) else Value(other)\n",
        "        out = Value(self.data * other.data, (self, other), '*')\n",
        "\n",
        "        def _backward():\n",
        "            self.grad += other.data * out.grad\n",
        "            other.grad += self.data * out.grad\n",
        "\n",
        "        out._backward = _backward\n",
        "        return out\n",
        "\n",
        "    def __truediv__(self, other):  # self / other\n",
        "        return self * other ** -1\n",
        "\n",
        "    def __pow__(self, power, modulo=None):\n",
        "        assert isinstance(power, (int, float)), \"only supporting int/float powers for now\"\n",
        "        out = Value(self.data ** power, (self,), f'**{power}')\n",
        "\n",
        "        def _backward():\n",
        "            self.grad += (power * self.data**(power-1)) * out.grad\n",
        "\n",
        "        out._backward = _backward\n",
        "        return out\n",
        "\n",
        "    def __neg__(self):  # -self\n",
        "        return self * Value(-1, lable=\"negitive\")\n",
        "\n",
        "    def __radd__(self, other): # other + self\n",
        "        return self + other\n",
        "\n",
        "    def __rsub__(self, other): # other - self\n",
        "        return other + (-self)\n",
        "\n",
        "    def __rmul__(self, other):\n",
        "        return self * other\n",
        "\n",
        "    def __rtruediv__(self, other): # other / self\n",
        "        return other * self**-1\n",
        "\n",
        "    def __repr__(self):\n",
        "        return f\"Value(data={self.data})\" #, children={self.prev}\n",
        "\n",
        "    def relu(self):\n",
        "        out = Value(0 if self.data < 0 else self.data, (self,), 'ReLU')\n",
        "\n",
        "        def _backward():\n",
        "            self.grad += (out.data > 0) * out.grad\n",
        "        out._backward = _backward\n",
        "\n",
        "        return out\n",
        "\n",
        "    def backward(self):\n",
        "\n",
        "        # topological order all of the children in the graph\n",
        "        topo = []\n",
        "        visited = set()\n",
        "        def build_topo(v):\n",
        "            if v not in visited:\n",
        "                visited.add(v)\n",
        "                for child in v.prev:\n",
        "                    build_topo(child)\n",
        "                topo.append(v)\n",
        "        build_topo(self)\n",
        "\n",
        "        # go one variable at a time and apply the chain rule to get its gradient\n",
        "        self.grad = 1\n",
        "        for v in reversed(topo):\n",
        "            v._backward()\n",
        "\n"
      ],
      "metadata": {
        "id": "CPCPTfTLLDon"
      },
      "execution_count": 14,
      "outputs": []
    },
    {
      "cell_type": "code",
      "source": [
        "x = -Value(2, lable=\"X1\") / Value(4,lable=\"X2\")\n",
        "y = x + x\n",
        "draw_graph(y)"
      ],
      "metadata": {
        "colab": {
          "base_uri": "https://localhost:8080/",
          "height": 248
        },
        "id": "efQJvlVkLIYX",
        "outputId": "4ca675b3-c7a6-4e9a-84f3-534d41c142e8"
      },
      "execution_count": 15,
      "outputs": [
        {
          "output_type": "execute_result",
          "data": {
            "image/svg+xml": "<?xml version=\"1.0\" encoding=\"UTF-8\" standalone=\"no\"?>\n<!DOCTYPE svg PUBLIC \"-//W3C//DTD SVG 1.1//EN\"\n \"http://www.w3.org/Graphics/SVG/1.1/DTD/svg11.dtd\">\n<!-- Generated by graphviz version 2.43.0 (0)\n -->\n<!-- Title: %3 Pages: 1 -->\n<svg width=\"1174pt\" height=\"155pt\"\n viewBox=\"0.00 0.00 1174.00 155.00\" xmlns=\"http://www.w3.org/2000/svg\" xmlns:xlink=\"http://www.w3.org/1999/xlink\">\n<g id=\"graph0\" class=\"graph\" transform=\"scale(1 1) rotate(0) translate(4 151)\">\n<title>%3</title>\n<polygon fill=\"white\" stroke=\"transparent\" points=\"-4,4 -4,-151 1170,-151 1170,4 -4,4\"/>\n<!-- 132549672891536 -->\n<g id=\"node1\" class=\"node\">\n<title>132549672891536</title>\n<polygon fill=\"none\" stroke=\"black\" points=\"979,-27.5 979,-63.5 1166,-63.5 1166,-27.5 979,-27.5\"/>\n<text text-anchor=\"middle\" x=\"989\" y=\"-41.8\" font-family=\"Times,serif\" font-size=\"14.00\"> </text>\n<polyline fill=\"none\" stroke=\"black\" points=\"999,-27.5 999,-63.5 \"/>\n<text text-anchor=\"middle\" x=\"1041.5\" y=\"-41.8\" font-family=\"Times,serif\" font-size=\"14.00\">data &#45;1.0000</text>\n<polyline fill=\"none\" stroke=\"black\" points=\"1084,-27.5 1084,-63.5 \"/>\n<text text-anchor=\"middle\" x=\"1125\" y=\"-41.8\" font-family=\"Times,serif\" font-size=\"14.00\">grad 0.0000</text>\n</g>\n<!-- 132549672891536+ -->\n<g id=\"node2\" class=\"node\">\n<title>132549672891536+</title>\n<ellipse fill=\"none\" stroke=\"black\" cx=\"916\" cy=\"-45.5\" rx=\"27\" ry=\"18\"/>\n<text text-anchor=\"middle\" x=\"916\" y=\"-41.8\" font-family=\"Times,serif\" font-size=\"14.00\">+</text>\n</g>\n<!-- 132549672891536+&#45;&gt;132549672891536 -->\n<g id=\"edge1\" class=\"edge\">\n<title>132549672891536+&#45;&gt;132549672891536</title>\n<path fill=\"none\" stroke=\"black\" d=\"M943.21,-45.5C950.73,-45.5 959.43,-45.5 968.67,-45.5\"/>\n<polygon fill=\"black\" stroke=\"black\" points=\"968.89,-49 978.89,-45.5 968.89,-42 968.89,-49\"/>\n</g>\n<!-- 132549672889568 -->\n<g id=\"node3\" class=\"node\">\n<title>132549672889568</title>\n<polygon fill=\"none\" stroke=\"black\" points=\"666,-27.5 666,-63.5 853,-63.5 853,-27.5 666,-27.5\"/>\n<text text-anchor=\"middle\" x=\"676\" y=\"-41.8\" font-family=\"Times,serif\" font-size=\"14.00\"> </text>\n<polyline fill=\"none\" stroke=\"black\" points=\"686,-27.5 686,-63.5 \"/>\n<text text-anchor=\"middle\" x=\"728.5\" y=\"-41.8\" font-family=\"Times,serif\" font-size=\"14.00\">data &#45;0.5000</text>\n<polyline fill=\"none\" stroke=\"black\" points=\"771,-27.5 771,-63.5 \"/>\n<text text-anchor=\"middle\" x=\"812\" y=\"-41.8\" font-family=\"Times,serif\" font-size=\"14.00\">grad 0.0000</text>\n</g>\n<!-- 132549672889568&#45;&gt;132549672891536+ -->\n<g id=\"edge2\" class=\"edge\">\n<title>132549672889568&#45;&gt;132549672891536+</title>\n<path fill=\"none\" stroke=\"black\" d=\"M853.05,-45.5C862.06,-45.5 870.79,-45.5 878.7,-45.5\"/>\n<polygon fill=\"black\" stroke=\"black\" points=\"878.95,-49 888.95,-45.5 878.95,-42 878.95,-49\"/>\n</g>\n<!-- 132549672889568* -->\n<g id=\"node4\" class=\"node\">\n<title>132549672889568*</title>\n<ellipse fill=\"none\" stroke=\"black\" cx=\"603\" cy=\"-45.5\" rx=\"27\" ry=\"18\"/>\n<text text-anchor=\"middle\" x=\"603\" y=\"-41.8\" font-family=\"Times,serif\" font-size=\"14.00\">*</text>\n</g>\n<!-- 132549672889568*&#45;&gt;132549672889568 -->\n<g id=\"edge3\" class=\"edge\">\n<title>132549672889568*&#45;&gt;132549672889568</title>\n<path fill=\"none\" stroke=\"black\" d=\"M630.21,-45.5C637.73,-45.5 646.43,-45.5 655.67,-45.5\"/>\n<polygon fill=\"black\" stroke=\"black\" points=\"655.89,-49 665.89,-45.5 655.89,-42 655.89,-49\"/>\n</g>\n<!-- 132549672889856 -->\n<g id=\"node5\" class=\"node\">\n<title>132549672889856</title>\n<polygon fill=\"none\" stroke=\"black\" points=\"353,-55.5 353,-91.5 540,-91.5 540,-55.5 353,-55.5\"/>\n<text text-anchor=\"middle\" x=\"363\" y=\"-69.8\" font-family=\"Times,serif\" font-size=\"14.00\"> </text>\n<polyline fill=\"none\" stroke=\"black\" points=\"373,-55.5 373,-91.5 \"/>\n<text text-anchor=\"middle\" x=\"415.5\" y=\"-69.8\" font-family=\"Times,serif\" font-size=\"14.00\">data &#45;2.0000</text>\n<polyline fill=\"none\" stroke=\"black\" points=\"458,-55.5 458,-91.5 \"/>\n<text text-anchor=\"middle\" x=\"499\" y=\"-69.8\" font-family=\"Times,serif\" font-size=\"14.00\">grad 0.0000</text>\n</g>\n<!-- 132549672889856&#45;&gt;132549672889568* -->\n<g id=\"edge4\" class=\"edge\">\n<title>132549672889856&#45;&gt;132549672889568*</title>\n<path fill=\"none\" stroke=\"black\" d=\"M540.05,-56.73C549.54,-55.01 558.71,-53.35 566.95,-51.85\"/>\n<polygon fill=\"black\" stroke=\"black\" points=\"567.64,-55.28 576.85,-50.06 566.39,-48.4 567.64,-55.28\"/>\n</g>\n<!-- 132549672889856* -->\n<g id=\"node6\" class=\"node\">\n<title>132549672889856*</title>\n<ellipse fill=\"none\" stroke=\"black\" cx=\"290\" cy=\"-73.5\" rx=\"27\" ry=\"18\"/>\n<text text-anchor=\"middle\" x=\"290\" y=\"-69.8\" font-family=\"Times,serif\" font-size=\"14.00\">*</text>\n</g>\n<!-- 132549672889856*&#45;&gt;132549672889856 -->\n<g id=\"edge5\" class=\"edge\">\n<title>132549672889856*&#45;&gt;132549672889856</title>\n<path fill=\"none\" stroke=\"black\" d=\"M317.21,-73.5C324.73,-73.5 333.43,-73.5 342.67,-73.5\"/>\n<polygon fill=\"black\" stroke=\"black\" points=\"342.89,-77 352.89,-73.5 342.89,-70 342.89,-77\"/>\n</g>\n<!-- 132549672878624 -->\n<g id=\"node7\" class=\"node\">\n<title>132549672878624</title>\n<polygon fill=\"none\" stroke=\"black\" points=\"16,-110.5 16,-146.5 211,-146.5 211,-110.5 16,-110.5\"/>\n<text text-anchor=\"middle\" x=\"32.5\" y=\"-124.8\" font-family=\"Times,serif\" font-size=\"14.00\">X1</text>\n<polyline fill=\"none\" stroke=\"black\" points=\"49,-110.5 49,-146.5 \"/>\n<text text-anchor=\"middle\" x=\"89\" y=\"-124.8\" font-family=\"Times,serif\" font-size=\"14.00\">data 2.0000</text>\n<polyline fill=\"none\" stroke=\"black\" points=\"129,-110.5 129,-146.5 \"/>\n<text text-anchor=\"middle\" x=\"170\" y=\"-124.8\" font-family=\"Times,serif\" font-size=\"14.00\">grad 0.0000</text>\n</g>\n<!-- 132549672878624&#45;&gt;132549672889856* -->\n<g id=\"edge6\" class=\"edge\">\n<title>132549672878624&#45;&gt;132549672889856*</title>\n<path fill=\"none\" stroke=\"black\" d=\"M197.65,-110.42C207.62,-107.71 217.59,-104.72 227,-101.5 237.67,-97.85 249,-93.02 259.03,-88.41\"/>\n<polygon fill=\"black\" stroke=\"black\" points=\"260.62,-91.53 268.17,-84.1 257.63,-85.2 260.62,-91.53\"/>\n</g>\n<!-- 132549672885872 -->\n<g id=\"node8\" class=\"node\">\n<title>132549672885872</title>\n<polygon fill=\"none\" stroke=\"black\" points=\"0,-55.5 0,-91.5 227,-91.5 227,-55.5 0,-55.5\"/>\n<text text-anchor=\"middle\" x=\"30\" y=\"-69.8\" font-family=\"Times,serif\" font-size=\"14.00\">negitive</text>\n<polyline fill=\"none\" stroke=\"black\" points=\"60,-55.5 60,-91.5 \"/>\n<text text-anchor=\"middle\" x=\"102.5\" y=\"-69.8\" font-family=\"Times,serif\" font-size=\"14.00\">data &#45;1.0000</text>\n<polyline fill=\"none\" stroke=\"black\" points=\"145,-55.5 145,-91.5 \"/>\n<text text-anchor=\"middle\" x=\"186\" y=\"-69.8\" font-family=\"Times,serif\" font-size=\"14.00\">grad 0.0000</text>\n</g>\n<!-- 132549672885872&#45;&gt;132549672889856* -->\n<g id=\"edge7\" class=\"edge\">\n<title>132549672885872&#45;&gt;132549672889856*</title>\n<path fill=\"none\" stroke=\"black\" d=\"M227.48,-73.5C236.49,-73.5 245.09,-73.5 252.87,-73.5\"/>\n<polygon fill=\"black\" stroke=\"black\" points=\"252.91,-77 262.91,-73.5 252.91,-70 252.91,-77\"/>\n</g>\n<!-- 132549672890624 -->\n<g id=\"node9\" class=\"node\">\n<title>132549672890624</title>\n<polygon fill=\"none\" stroke=\"black\" points=\"355.5,-0.5 355.5,-36.5 537.5,-36.5 537.5,-0.5 355.5,-0.5\"/>\n<text text-anchor=\"middle\" x=\"365.5\" y=\"-14.8\" font-family=\"Times,serif\" font-size=\"14.00\"> </text>\n<polyline fill=\"none\" stroke=\"black\" points=\"375.5,-0.5 375.5,-36.5 \"/>\n<text text-anchor=\"middle\" x=\"415.5\" y=\"-14.8\" font-family=\"Times,serif\" font-size=\"14.00\">data 0.2500</text>\n<polyline fill=\"none\" stroke=\"black\" points=\"455.5,-0.5 455.5,-36.5 \"/>\n<text text-anchor=\"middle\" x=\"496.5\" y=\"-14.8\" font-family=\"Times,serif\" font-size=\"14.00\">grad 0.0000</text>\n</g>\n<!-- 132549672890624&#45;&gt;132549672889568* -->\n<g id=\"edge8\" class=\"edge\">\n<title>132549672890624&#45;&gt;132549672889568*</title>\n<path fill=\"none\" stroke=\"black\" d=\"M537.82,-34.28C548.07,-36.08 558.01,-37.81 566.88,-39.36\"/>\n<polygon fill=\"black\" stroke=\"black\" points=\"566.3,-42.81 576.75,-41.09 567.5,-35.92 566.3,-42.81\"/>\n</g>\n<!-- 132549672890624**&#45;1 -->\n<g id=\"node10\" class=\"node\">\n<title>132549672890624**&#45;1</title>\n<ellipse fill=\"none\" stroke=\"black\" cx=\"290\" cy=\"-18.5\" rx=\"27\" ry=\"18\"/>\n<text text-anchor=\"middle\" x=\"290\" y=\"-14.8\" font-family=\"Times,serif\" font-size=\"14.00\">**&#45;1</text>\n</g>\n<!-- 132549672890624**&#45;1&#45;&gt;132549672890624 -->\n<g id=\"edge9\" class=\"edge\">\n<title>132549672890624**&#45;1&#45;&gt;132549672890624</title>\n<path fill=\"none\" stroke=\"black\" d=\"M317.21,-18.5C325.34,-18.5 334.85,-18.5 344.94,-18.5\"/>\n<polygon fill=\"black\" stroke=\"black\" points=\"345.19,-22 355.19,-18.5 345.19,-15 345.19,-22\"/>\n</g>\n<!-- 132549672879968 -->\n<g id=\"node11\" class=\"node\">\n<title>132549672879968</title>\n<polygon fill=\"none\" stroke=\"black\" points=\"16,-0.5 16,-36.5 211,-36.5 211,-0.5 16,-0.5\"/>\n<text text-anchor=\"middle\" x=\"32.5\" y=\"-14.8\" font-family=\"Times,serif\" font-size=\"14.00\">X2</text>\n<polyline fill=\"none\" stroke=\"black\" points=\"49,-0.5 49,-36.5 \"/>\n<text text-anchor=\"middle\" x=\"89\" y=\"-14.8\" font-family=\"Times,serif\" font-size=\"14.00\">data 4.0000</text>\n<polyline fill=\"none\" stroke=\"black\" points=\"129,-0.5 129,-36.5 \"/>\n<text text-anchor=\"middle\" x=\"170\" y=\"-14.8\" font-family=\"Times,serif\" font-size=\"14.00\">grad 0.0000</text>\n</g>\n<!-- 132549672879968&#45;&gt;132549672890624**&#45;1 -->\n<g id=\"edge10\" class=\"edge\">\n<title>132549672879968&#45;&gt;132549672890624**&#45;1</title>\n<path fill=\"none\" stroke=\"black\" d=\"M211.19,-18.5C225.91,-18.5 240.27,-18.5 252.56,-18.5\"/>\n<polygon fill=\"black\" stroke=\"black\" points=\"252.78,-22 262.78,-18.5 252.78,-15 252.78,-22\"/>\n</g>\n</g>\n</svg>\n",
            "text/plain": [
              "<graphviz.graphs.Digraph at 0x788da02ad9f0>"
            ]
          },
          "metadata": {},
          "execution_count": 15
        }
      ]
    },
    {
      "cell_type": "code",
      "source": [
        "y.backward()\n",
        "draw_graph(y)"
      ],
      "metadata": {
        "colab": {
          "base_uri": "https://localhost:8080/",
          "height": 248
        },
        "id": "j5ehH_5pCWNQ",
        "outputId": "4c15eee1-652c-4f0d-c138-d345f283979f"
      },
      "execution_count": 16,
      "outputs": [
        {
          "output_type": "execute_result",
          "data": {
            "image/svg+xml": "<?xml version=\"1.0\" encoding=\"UTF-8\" standalone=\"no\"?>\n<!DOCTYPE svg PUBLIC \"-//W3C//DTD SVG 1.1//EN\"\n \"http://www.w3.org/Graphics/SVG/1.1/DTD/svg11.dtd\">\n<!-- Generated by graphviz version 2.43.0 (0)\n -->\n<!-- Title: %3 Pages: 1 -->\n<svg width=\"1174pt\" height=\"155pt\"\n viewBox=\"0.00 0.00 1174.00 155.00\" xmlns=\"http://www.w3.org/2000/svg\" xmlns:xlink=\"http://www.w3.org/1999/xlink\">\n<g id=\"graph0\" class=\"graph\" transform=\"scale(1 1) rotate(0) translate(4 151)\">\n<title>%3</title>\n<polygon fill=\"white\" stroke=\"transparent\" points=\"-4,4 -4,-151 1170,-151 1170,4 -4,4\"/>\n<!-- 132549672891536 -->\n<g id=\"node1\" class=\"node\">\n<title>132549672891536</title>\n<polygon fill=\"none\" stroke=\"black\" points=\"979,-27.5 979,-63.5 1166,-63.5 1166,-27.5 979,-27.5\"/>\n<text text-anchor=\"middle\" x=\"989\" y=\"-41.8\" font-family=\"Times,serif\" font-size=\"14.00\"> </text>\n<polyline fill=\"none\" stroke=\"black\" points=\"999,-27.5 999,-63.5 \"/>\n<text text-anchor=\"middle\" x=\"1041.5\" y=\"-41.8\" font-family=\"Times,serif\" font-size=\"14.00\">data &#45;1.0000</text>\n<polyline fill=\"none\" stroke=\"black\" points=\"1084,-27.5 1084,-63.5 \"/>\n<text text-anchor=\"middle\" x=\"1125\" y=\"-41.8\" font-family=\"Times,serif\" font-size=\"14.00\">grad 1.0000</text>\n</g>\n<!-- 132549672891536+ -->\n<g id=\"node2\" class=\"node\">\n<title>132549672891536+</title>\n<ellipse fill=\"none\" stroke=\"black\" cx=\"916\" cy=\"-45.5\" rx=\"27\" ry=\"18\"/>\n<text text-anchor=\"middle\" x=\"916\" y=\"-41.8\" font-family=\"Times,serif\" font-size=\"14.00\">+</text>\n</g>\n<!-- 132549672891536+&#45;&gt;132549672891536 -->\n<g id=\"edge1\" class=\"edge\">\n<title>132549672891536+&#45;&gt;132549672891536</title>\n<path fill=\"none\" stroke=\"black\" d=\"M943.21,-45.5C950.73,-45.5 959.43,-45.5 968.67,-45.5\"/>\n<polygon fill=\"black\" stroke=\"black\" points=\"968.89,-49 978.89,-45.5 968.89,-42 968.89,-49\"/>\n</g>\n<!-- 132549672889568 -->\n<g id=\"node3\" class=\"node\">\n<title>132549672889568</title>\n<polygon fill=\"none\" stroke=\"black\" points=\"666,-27.5 666,-63.5 853,-63.5 853,-27.5 666,-27.5\"/>\n<text text-anchor=\"middle\" x=\"676\" y=\"-41.8\" font-family=\"Times,serif\" font-size=\"14.00\"> </text>\n<polyline fill=\"none\" stroke=\"black\" points=\"686,-27.5 686,-63.5 \"/>\n<text text-anchor=\"middle\" x=\"728.5\" y=\"-41.8\" font-family=\"Times,serif\" font-size=\"14.00\">data &#45;0.5000</text>\n<polyline fill=\"none\" stroke=\"black\" points=\"771,-27.5 771,-63.5 \"/>\n<text text-anchor=\"middle\" x=\"812\" y=\"-41.8\" font-family=\"Times,serif\" font-size=\"14.00\">grad 2.0000</text>\n</g>\n<!-- 132549672889568&#45;&gt;132549672891536+ -->\n<g id=\"edge2\" class=\"edge\">\n<title>132549672889568&#45;&gt;132549672891536+</title>\n<path fill=\"none\" stroke=\"black\" d=\"M853.05,-45.5C862.06,-45.5 870.79,-45.5 878.7,-45.5\"/>\n<polygon fill=\"black\" stroke=\"black\" points=\"878.95,-49 888.95,-45.5 878.95,-42 878.95,-49\"/>\n</g>\n<!-- 132549672889568* -->\n<g id=\"node4\" class=\"node\">\n<title>132549672889568*</title>\n<ellipse fill=\"none\" stroke=\"black\" cx=\"603\" cy=\"-45.5\" rx=\"27\" ry=\"18\"/>\n<text text-anchor=\"middle\" x=\"603\" y=\"-41.8\" font-family=\"Times,serif\" font-size=\"14.00\">*</text>\n</g>\n<!-- 132549672889568*&#45;&gt;132549672889568 -->\n<g id=\"edge3\" class=\"edge\">\n<title>132549672889568*&#45;&gt;132549672889568</title>\n<path fill=\"none\" stroke=\"black\" d=\"M630.21,-45.5C637.73,-45.5 646.43,-45.5 655.67,-45.5\"/>\n<polygon fill=\"black\" stroke=\"black\" points=\"655.89,-49 665.89,-45.5 655.89,-42 655.89,-49\"/>\n</g>\n<!-- 132549672889856 -->\n<g id=\"node5\" class=\"node\">\n<title>132549672889856</title>\n<polygon fill=\"none\" stroke=\"black\" points=\"353,-55.5 353,-91.5 540,-91.5 540,-55.5 353,-55.5\"/>\n<text text-anchor=\"middle\" x=\"363\" y=\"-69.8\" font-family=\"Times,serif\" font-size=\"14.00\"> </text>\n<polyline fill=\"none\" stroke=\"black\" points=\"373,-55.5 373,-91.5 \"/>\n<text text-anchor=\"middle\" x=\"415.5\" y=\"-69.8\" font-family=\"Times,serif\" font-size=\"14.00\">data &#45;2.0000</text>\n<polyline fill=\"none\" stroke=\"black\" points=\"458,-55.5 458,-91.5 \"/>\n<text text-anchor=\"middle\" x=\"499\" y=\"-69.8\" font-family=\"Times,serif\" font-size=\"14.00\">grad 0.5000</text>\n</g>\n<!-- 132549672889856&#45;&gt;132549672889568* -->\n<g id=\"edge4\" class=\"edge\">\n<title>132549672889856&#45;&gt;132549672889568*</title>\n<path fill=\"none\" stroke=\"black\" d=\"M540.05,-56.73C549.54,-55.01 558.71,-53.35 566.95,-51.85\"/>\n<polygon fill=\"black\" stroke=\"black\" points=\"567.64,-55.28 576.85,-50.06 566.39,-48.4 567.64,-55.28\"/>\n</g>\n<!-- 132549672889856* -->\n<g id=\"node6\" class=\"node\">\n<title>132549672889856*</title>\n<ellipse fill=\"none\" stroke=\"black\" cx=\"290\" cy=\"-73.5\" rx=\"27\" ry=\"18\"/>\n<text text-anchor=\"middle\" x=\"290\" y=\"-69.8\" font-family=\"Times,serif\" font-size=\"14.00\">*</text>\n</g>\n<!-- 132549672889856*&#45;&gt;132549672889856 -->\n<g id=\"edge5\" class=\"edge\">\n<title>132549672889856*&#45;&gt;132549672889856</title>\n<path fill=\"none\" stroke=\"black\" d=\"M317.21,-73.5C324.73,-73.5 333.43,-73.5 342.67,-73.5\"/>\n<polygon fill=\"black\" stroke=\"black\" points=\"342.89,-77 352.89,-73.5 342.89,-70 342.89,-77\"/>\n</g>\n<!-- 132549672878624 -->\n<g id=\"node7\" class=\"node\">\n<title>132549672878624</title>\n<polygon fill=\"none\" stroke=\"black\" points=\"14,-110.5 14,-146.5 213,-146.5 213,-110.5 14,-110.5\"/>\n<text text-anchor=\"middle\" x=\"30.5\" y=\"-124.8\" font-family=\"Times,serif\" font-size=\"14.00\">X1</text>\n<polyline fill=\"none\" stroke=\"black\" points=\"47,-110.5 47,-146.5 \"/>\n<text text-anchor=\"middle\" x=\"87\" y=\"-124.8\" font-family=\"Times,serif\" font-size=\"14.00\">data 2.0000</text>\n<polyline fill=\"none\" stroke=\"black\" points=\"127,-110.5 127,-146.5 \"/>\n<text text-anchor=\"middle\" x=\"170\" y=\"-124.8\" font-family=\"Times,serif\" font-size=\"14.00\">grad &#45;0.5000</text>\n</g>\n<!-- 132549672878624&#45;&gt;132549672889856* -->\n<g id=\"edge6\" class=\"edge\">\n<title>132549672878624&#45;&gt;132549672889856*</title>\n<path fill=\"none\" stroke=\"black\" d=\"M197.65,-110.42C207.62,-107.71 217.59,-104.72 227,-101.5 237.67,-97.85 249,-93.02 259.03,-88.41\"/>\n<polygon fill=\"black\" stroke=\"black\" points=\"260.62,-91.53 268.17,-84.1 257.63,-85.2 260.62,-91.53\"/>\n</g>\n<!-- 132549672885872 -->\n<g id=\"node8\" class=\"node\">\n<title>132549672885872</title>\n<polygon fill=\"none\" stroke=\"black\" points=\"0,-55.5 0,-91.5 227,-91.5 227,-55.5 0,-55.5\"/>\n<text text-anchor=\"middle\" x=\"30\" y=\"-69.8\" font-family=\"Times,serif\" font-size=\"14.00\">negitive</text>\n<polyline fill=\"none\" stroke=\"black\" points=\"60,-55.5 60,-91.5 \"/>\n<text text-anchor=\"middle\" x=\"102.5\" y=\"-69.8\" font-family=\"Times,serif\" font-size=\"14.00\">data &#45;1.0000</text>\n<polyline fill=\"none\" stroke=\"black\" points=\"145,-55.5 145,-91.5 \"/>\n<text text-anchor=\"middle\" x=\"186\" y=\"-69.8\" font-family=\"Times,serif\" font-size=\"14.00\">grad 1.0000</text>\n</g>\n<!-- 132549672885872&#45;&gt;132549672889856* -->\n<g id=\"edge7\" class=\"edge\">\n<title>132549672885872&#45;&gt;132549672889856*</title>\n<path fill=\"none\" stroke=\"black\" d=\"M227.48,-73.5C236.49,-73.5 245.09,-73.5 252.87,-73.5\"/>\n<polygon fill=\"black\" stroke=\"black\" points=\"252.91,-77 262.91,-73.5 252.91,-70 252.91,-77\"/>\n</g>\n<!-- 132549672890624 -->\n<g id=\"node9\" class=\"node\">\n<title>132549672890624</title>\n<polygon fill=\"none\" stroke=\"black\" points=\"353.5,-0.5 353.5,-36.5 539.5,-36.5 539.5,-0.5 353.5,-0.5\"/>\n<text text-anchor=\"middle\" x=\"363.5\" y=\"-14.8\" font-family=\"Times,serif\" font-size=\"14.00\"> </text>\n<polyline fill=\"none\" stroke=\"black\" points=\"373.5,-0.5 373.5,-36.5 \"/>\n<text text-anchor=\"middle\" x=\"413.5\" y=\"-14.8\" font-family=\"Times,serif\" font-size=\"14.00\">data 0.2500</text>\n<polyline fill=\"none\" stroke=\"black\" points=\"453.5,-0.5 453.5,-36.5 \"/>\n<text text-anchor=\"middle\" x=\"496.5\" y=\"-14.8\" font-family=\"Times,serif\" font-size=\"14.00\">grad &#45;4.0000</text>\n</g>\n<!-- 132549672890624&#45;&gt;132549672889568* -->\n<g id=\"edge8\" class=\"edge\">\n<title>132549672890624&#45;&gt;132549672889568*</title>\n<path fill=\"none\" stroke=\"black\" d=\"M539.6,-34.6C549.15,-36.26 558.37,-37.88 566.68,-39.33\"/>\n<polygon fill=\"black\" stroke=\"black\" points=\"566.2,-42.8 576.65,-41.07 567.4,-35.9 566.2,-42.8\"/>\n</g>\n<!-- 132549672890624**&#45;1 -->\n<g id=\"node10\" class=\"node\">\n<title>132549672890624**&#45;1</title>\n<ellipse fill=\"none\" stroke=\"black\" cx=\"290\" cy=\"-18.5\" rx=\"27\" ry=\"18\"/>\n<text text-anchor=\"middle\" x=\"290\" y=\"-14.8\" font-family=\"Times,serif\" font-size=\"14.00\">**&#45;1</text>\n</g>\n<!-- 132549672890624**&#45;1&#45;&gt;132549672890624 -->\n<g id=\"edge9\" class=\"edge\">\n<title>132549672890624**&#45;1&#45;&gt;132549672890624</title>\n<path fill=\"none\" stroke=\"black\" d=\"M317.21,-18.5C324.88,-18.5 333.76,-18.5 343.2,-18.5\"/>\n<polygon fill=\"black\" stroke=\"black\" points=\"343.21,-22 353.21,-18.5 343.21,-15 343.21,-22\"/>\n</g>\n<!-- 132549672879968 -->\n<g id=\"node11\" class=\"node\">\n<title>132549672879968</title>\n<polygon fill=\"none\" stroke=\"black\" points=\"16,-0.5 16,-36.5 211,-36.5 211,-0.5 16,-0.5\"/>\n<text text-anchor=\"middle\" x=\"32.5\" y=\"-14.8\" font-family=\"Times,serif\" font-size=\"14.00\">X2</text>\n<polyline fill=\"none\" stroke=\"black\" points=\"49,-0.5 49,-36.5 \"/>\n<text text-anchor=\"middle\" x=\"89\" y=\"-14.8\" font-family=\"Times,serif\" font-size=\"14.00\">data 4.0000</text>\n<polyline fill=\"none\" stroke=\"black\" points=\"129,-0.5 129,-36.5 \"/>\n<text text-anchor=\"middle\" x=\"170\" y=\"-14.8\" font-family=\"Times,serif\" font-size=\"14.00\">grad 0.2500</text>\n</g>\n<!-- 132549672879968&#45;&gt;132549672890624**&#45;1 -->\n<g id=\"edge10\" class=\"edge\">\n<title>132549672879968&#45;&gt;132549672890624**&#45;1</title>\n<path fill=\"none\" stroke=\"black\" d=\"M211.19,-18.5C225.91,-18.5 240.27,-18.5 252.56,-18.5\"/>\n<polygon fill=\"black\" stroke=\"black\" points=\"252.78,-22 262.78,-18.5 252.78,-15 252.78,-22\"/>\n</g>\n</g>\n</svg>\n",
            "text/plain": [
              "<graphviz.graphs.Digraph at 0x788da02ad180>"
            ]
          },
          "metadata": {},
          "execution_count": 16
        }
      ]
    },
    {
      "cell_type": "code",
      "source": [
        "a = Value(-2.0, lable='a')\n",
        "b = Value(3.0, lable='b')\n",
        "d = a * b    ; d.lable = 'd'\n",
        "e = a + b    ; e.lable = 'e'\n",
        "f = d * e    ; f.lable = 'f'\n",
        "\n",
        "f.backward()\n",
        "\n",
        "draw_graph(f)"
      ],
      "metadata": {
        "colab": {
          "base_uri": "https://localhost:8080/",
          "height": 174
        },
        "id": "U4YvA9TkSiYn",
        "outputId": "5a02aa19-0cef-4e40-a82d-c3fa6ca0d168"
      },
      "execution_count": 17,
      "outputs": [
        {
          "output_type": "execute_result",
          "data": {
            "image/svg+xml": "<?xml version=\"1.0\" encoding=\"UTF-8\" standalone=\"no\"?>\n<!DOCTYPE svg PUBLIC \"-//W3C//DTD SVG 1.1//EN\"\n \"http://www.w3.org/Graphics/SVG/1.1/DTD/svg11.dtd\">\n<!-- Generated by graphviz version 2.43.0 (0)\n -->\n<!-- Title: %3 Pages: 1 -->\n<svg width=\"832pt\" height=\"100pt\"\n viewBox=\"0.00 0.00 832.00 100.00\" xmlns=\"http://www.w3.org/2000/svg\" xmlns:xlink=\"http://www.w3.org/1999/xlink\">\n<g id=\"graph0\" class=\"graph\" transform=\"scale(1 1) rotate(0) translate(4 96)\">\n<title>%3</title>\n<polygon fill=\"white\" stroke=\"transparent\" points=\"-4,4 -4,-96 828,-96 828,4 -4,4\"/>\n<!-- 132549672886256 -->\n<g id=\"node1\" class=\"node\">\n<title>132549672886256</title>\n<polygon fill=\"none\" stroke=\"black\" points=\"636,-27.5 636,-63.5 824,-63.5 824,-27.5 636,-27.5\"/>\n<text text-anchor=\"middle\" x=\"646.5\" y=\"-41.8\" font-family=\"Times,serif\" font-size=\"14.00\">f</text>\n<polyline fill=\"none\" stroke=\"black\" points=\"657,-27.5 657,-63.5 \"/>\n<text text-anchor=\"middle\" x=\"699.5\" y=\"-41.8\" font-family=\"Times,serif\" font-size=\"14.00\">data &#45;6.0000</text>\n<polyline fill=\"none\" stroke=\"black\" points=\"742,-27.5 742,-63.5 \"/>\n<text text-anchor=\"middle\" x=\"783\" y=\"-41.8\" font-family=\"Times,serif\" font-size=\"14.00\">grad 1.0000</text>\n</g>\n<!-- 132549672886256* -->\n<g id=\"node2\" class=\"node\">\n<title>132549672886256*</title>\n<ellipse fill=\"none\" stroke=\"black\" cx=\"573\" cy=\"-45.5\" rx=\"27\" ry=\"18\"/>\n<text text-anchor=\"middle\" x=\"573\" y=\"-41.8\" font-family=\"Times,serif\" font-size=\"14.00\">*</text>\n</g>\n<!-- 132549672886256*&#45;&gt;132549672886256 -->\n<g id=\"edge1\" class=\"edge\">\n<title>132549672886256*&#45;&gt;132549672886256</title>\n<path fill=\"none\" stroke=\"black\" d=\"M600.29,-45.5C607.78,-45.5 616.42,-45.5 625.6,-45.5\"/>\n<polygon fill=\"black\" stroke=\"black\" points=\"625.76,-49 635.76,-45.5 625.76,-42 625.76,-49\"/>\n</g>\n<!-- 132549672881408 -->\n<g id=\"node3\" class=\"node\">\n<title>132549672881408</title>\n<polygon fill=\"none\" stroke=\"black\" points=\"320.5,-55.5 320.5,-91.5 509.5,-91.5 509.5,-55.5 320.5,-55.5\"/>\n<text text-anchor=\"middle\" x=\"332\" y=\"-69.8\" font-family=\"Times,serif\" font-size=\"14.00\">e</text>\n<polyline fill=\"none\" stroke=\"black\" points=\"343.5,-55.5 343.5,-91.5 \"/>\n<text text-anchor=\"middle\" x=\"383.5\" y=\"-69.8\" font-family=\"Times,serif\" font-size=\"14.00\">data 1.0000</text>\n<polyline fill=\"none\" stroke=\"black\" points=\"423.5,-55.5 423.5,-91.5 \"/>\n<text text-anchor=\"middle\" x=\"466.5\" y=\"-69.8\" font-family=\"Times,serif\" font-size=\"14.00\">grad &#45;6.0000</text>\n</g>\n<!-- 132549672881408&#45;&gt;132549672886256* -->\n<g id=\"edge2\" class=\"edge\">\n<title>132549672881408&#45;&gt;132549672886256*</title>\n<path fill=\"none\" stroke=\"black\" d=\"M509.9,-56.65C519.42,-54.94 528.62,-53.29 536.89,-51.8\"/>\n<polygon fill=\"black\" stroke=\"black\" points=\"537.59,-55.23 546.81,-50.02 536.35,-48.34 537.59,-55.23\"/>\n</g>\n<!-- 132549672881408+ -->\n<g id=\"node4\" class=\"node\">\n<title>132549672881408+</title>\n<ellipse fill=\"none\" stroke=\"black\" cx=\"257\" cy=\"-73.5\" rx=\"27\" ry=\"18\"/>\n<text text-anchor=\"middle\" x=\"257\" y=\"-69.8\" font-family=\"Times,serif\" font-size=\"14.00\">+</text>\n</g>\n<!-- 132549672881408+&#45;&gt;132549672881408 -->\n<g id=\"edge3\" class=\"edge\">\n<title>132549672881408+&#45;&gt;132549672881408</title>\n<path fill=\"none\" stroke=\"black\" d=\"M284.11,-73.5C291.84,-73.5 300.8,-73.5 310.35,-73.5\"/>\n<polygon fill=\"black\" stroke=\"black\" points=\"310.48,-77 320.48,-73.5 310.48,-70 310.48,-77\"/>\n</g>\n<!-- 132549672884000 -->\n<g id=\"node5\" class=\"node\">\n<title>132549672884000</title>\n<polygon fill=\"none\" stroke=\"black\" points=\"2.5,-55.5 2.5,-91.5 191.5,-91.5 191.5,-55.5 2.5,-55.5\"/>\n<text text-anchor=\"middle\" x=\"14\" y=\"-69.8\" font-family=\"Times,serif\" font-size=\"14.00\">b</text>\n<polyline fill=\"none\" stroke=\"black\" points=\"25.5,-55.5 25.5,-91.5 \"/>\n<text text-anchor=\"middle\" x=\"65.5\" y=\"-69.8\" font-family=\"Times,serif\" font-size=\"14.00\">data 3.0000</text>\n<polyline fill=\"none\" stroke=\"black\" points=\"105.5,-55.5 105.5,-91.5 \"/>\n<text text-anchor=\"middle\" x=\"148.5\" y=\"-69.8\" font-family=\"Times,serif\" font-size=\"14.00\">grad &#45;8.0000</text>\n</g>\n<!-- 132549672884000&#45;&gt;132549672881408+ -->\n<g id=\"edge4\" class=\"edge\">\n<title>132549672884000&#45;&gt;132549672881408+</title>\n<path fill=\"none\" stroke=\"black\" d=\"M191.74,-73.5C201.55,-73.5 211.04,-73.5 219.59,-73.5\"/>\n<polygon fill=\"black\" stroke=\"black\" points=\"219.87,-77 229.87,-73.5 219.87,-70 219.87,-77\"/>\n</g>\n<!-- 132549672879728* -->\n<g id=\"node8\" class=\"node\">\n<title>132549672879728*</title>\n<ellipse fill=\"none\" stroke=\"black\" cx=\"257\" cy=\"-18.5\" rx=\"27\" ry=\"18\"/>\n<text text-anchor=\"middle\" x=\"257\" y=\"-14.8\" font-family=\"Times,serif\" font-size=\"14.00\">*</text>\n</g>\n<!-- 132549672884000&#45;&gt;132549672879728* -->\n<g id=\"edge8\" class=\"edge\">\n<title>132549672884000&#45;&gt;132549672879728*</title>\n<path fill=\"none\" stroke=\"black\" d=\"M166.84,-55.49C176.04,-52.69 185.3,-49.67 194,-46.5 204.51,-42.67 215.73,-37.84 225.7,-33.28\"/>\n<polygon fill=\"black\" stroke=\"black\" points=\"227.23,-36.43 234.81,-29.02 224.27,-30.09 227.23,-36.43\"/>\n</g>\n<!-- 132549672880064 -->\n<g id=\"node6\" class=\"node\">\n<title>132549672880064</title>\n<polygon fill=\"none\" stroke=\"black\" points=\"0,-0.5 0,-36.5 194,-36.5 194,-0.5 0,-0.5\"/>\n<text text-anchor=\"middle\" x=\"11.5\" y=\"-14.8\" font-family=\"Times,serif\" font-size=\"14.00\">a</text>\n<polyline fill=\"none\" stroke=\"black\" points=\"23,-0.5 23,-36.5 \"/>\n<text text-anchor=\"middle\" x=\"65.5\" y=\"-14.8\" font-family=\"Times,serif\" font-size=\"14.00\">data &#45;2.0000</text>\n<polyline fill=\"none\" stroke=\"black\" points=\"108,-0.5 108,-36.5 \"/>\n<text text-anchor=\"middle\" x=\"151\" y=\"-14.8\" font-family=\"Times,serif\" font-size=\"14.00\">grad &#45;3.0000</text>\n</g>\n<!-- 132549672880064&#45;&gt;132549672881408+ -->\n<g id=\"edge5\" class=\"edge\">\n<title>132549672880064&#45;&gt;132549672881408+</title>\n<path fill=\"none\" stroke=\"black\" d=\"M163.94,-36.53C174.08,-39.65 184.37,-43.01 194,-46.5 204.27,-50.22 215.26,-54.8 225.09,-59.12\"/>\n<polygon fill=\"black\" stroke=\"black\" points=\"223.91,-62.43 234.47,-63.32 226.77,-56.04 223.91,-62.43\"/>\n</g>\n<!-- 132549672880064&#45;&gt;132549672879728* -->\n<g id=\"edge9\" class=\"edge\">\n<title>132549672880064&#45;&gt;132549672879728*</title>\n<path fill=\"none\" stroke=\"black\" d=\"M194.01,-18.5C202.98,-18.5 211.65,-18.5 219.51,-18.5\"/>\n<polygon fill=\"black\" stroke=\"black\" points=\"219.7,-22 229.7,-18.5 219.7,-15 219.7,-22\"/>\n</g>\n<!-- 132549672879728 -->\n<g id=\"node7\" class=\"node\">\n<title>132549672879728</title>\n<polygon fill=\"none\" stroke=\"black\" points=\"320,-0.5 320,-36.5 510,-36.5 510,-0.5 320,-0.5\"/>\n<text text-anchor=\"middle\" x=\"331.5\" y=\"-14.8\" font-family=\"Times,serif\" font-size=\"14.00\">d</text>\n<polyline fill=\"none\" stroke=\"black\" points=\"343,-0.5 343,-36.5 \"/>\n<text text-anchor=\"middle\" x=\"385.5\" y=\"-14.8\" font-family=\"Times,serif\" font-size=\"14.00\">data &#45;6.0000</text>\n<polyline fill=\"none\" stroke=\"black\" points=\"428,-0.5 428,-36.5 \"/>\n<text text-anchor=\"middle\" x=\"469\" y=\"-14.8\" font-family=\"Times,serif\" font-size=\"14.00\">grad 1.0000</text>\n</g>\n<!-- 132549672879728&#45;&gt;132549672886256* -->\n<g id=\"edge6\" class=\"edge\">\n<title>132549672879728&#45;&gt;132549672886256*</title>\n<path fill=\"none\" stroke=\"black\" d=\"M510.34,-34.83C519.62,-36.44 528.58,-37.99 536.66,-39.38\"/>\n<polygon fill=\"black\" stroke=\"black\" points=\"536.27,-42.87 546.72,-41.12 537.46,-35.97 536.27,-42.87\"/>\n</g>\n<!-- 132549672879728*&#45;&gt;132549672879728 -->\n<g id=\"edge7\" class=\"edge\">\n<title>132549672879728*&#45;&gt;132549672879728</title>\n<path fill=\"none\" stroke=\"black\" d=\"M284.11,-18.5C291.63,-18.5 300.32,-18.5 309.58,-18.5\"/>\n<polygon fill=\"black\" stroke=\"black\" points=\"309.81,-22 319.81,-18.5 309.81,-15 309.81,-22\"/>\n</g>\n</g>\n</svg>\n",
            "text/plain": [
              "<graphviz.graphs.Digraph at 0x788da02ad690>"
            ]
          },
          "metadata": {},
          "execution_count": 17
        }
      ]
    },
    {
      "cell_type": "code",
      "source": [
        "X1 = Value(-2.0, lable='X1')\n",
        "X2 = Value(2.0, lable='X2')\n",
        "X3 = Value(6.0, lable='X3')\n",
        "W1 = Value(2.0, lable='W1')\n",
        "W2 = Value(2.0, lable='W2')\n",
        "W3 = Value(2.0, lable='W3')\n",
        "\n",
        "o = X1*W1 +  X2*W2 +  X3*W3 ; o.lable = 'o'\n",
        "\n",
        "o.backward()\n",
        "\n",
        "draw_graph(o)"
      ],
      "metadata": {
        "colab": {
          "base_uri": "https://localhost:8080/",
          "height": 394
        },
        "id": "LynmgCCbTFfG",
        "outputId": "7582b2e1-c51f-4b49-e742-960d71035a0c"
      },
      "execution_count": 18,
      "outputs": [
        {
          "output_type": "execute_result",
          "data": {
            "image/svg+xml": "<?xml version=\"1.0\" encoding=\"UTF-8\" standalone=\"no\"?>\n<!DOCTYPE svg PUBLIC \"-//W3C//DTD SVG 1.1//EN\"\n \"http://www.w3.org/Graphics/SVG/1.1/DTD/svg11.dtd\">\n<!-- Generated by graphviz version 2.43.0 (0)\n -->\n<!-- Title: %3 Pages: 1 -->\n<svg width=\"1169pt\" height=\"265pt\"\n viewBox=\"0.00 0.00 1169.00 265.00\" xmlns=\"http://www.w3.org/2000/svg\" xmlns:xlink=\"http://www.w3.org/1999/xlink\">\n<g id=\"graph0\" class=\"graph\" transform=\"scale(1 1) rotate(0) translate(4 261)\">\n<title>%3</title>\n<polygon fill=\"white\" stroke=\"transparent\" points=\"-4,4 -4,-261 1165,-261 1165,4 -4,4\"/>\n<!-- 132549672893984 -->\n<g id=\"node1\" class=\"node\">\n<title>132549672893984</title>\n<polygon fill=\"none\" stroke=\"black\" points=\"969,-82.5 969,-118.5 1161,-118.5 1161,-82.5 969,-82.5\"/>\n<text text-anchor=\"middle\" x=\"980.5\" y=\"-96.8\" font-family=\"Times,serif\" font-size=\"14.00\">o</text>\n<polyline fill=\"none\" stroke=\"black\" points=\"992,-82.5 992,-118.5 \"/>\n<text text-anchor=\"middle\" x=\"1035.5\" y=\"-96.8\" font-family=\"Times,serif\" font-size=\"14.00\">data 12.0000</text>\n<polyline fill=\"none\" stroke=\"black\" points=\"1079,-82.5 1079,-118.5 \"/>\n<text text-anchor=\"middle\" x=\"1120\" y=\"-96.8\" font-family=\"Times,serif\" font-size=\"14.00\">grad 1.0000</text>\n</g>\n<!-- 132549672893984+ -->\n<g id=\"node2\" class=\"node\">\n<title>132549672893984+</title>\n<ellipse fill=\"none\" stroke=\"black\" cx=\"906\" cy=\"-100.5\" rx=\"27\" ry=\"18\"/>\n<text text-anchor=\"middle\" x=\"906\" y=\"-96.8\" font-family=\"Times,serif\" font-size=\"14.00\">+</text>\n</g>\n<!-- 132549672893984+&#45;&gt;132549672893984 -->\n<g id=\"edge1\" class=\"edge\">\n<title>132549672893984+&#45;&gt;132549672893984</title>\n<path fill=\"none\" stroke=\"black\" d=\"M933.28,-100.5C940.78,-100.5 949.44,-100.5 958.67,-100.5\"/>\n<polygon fill=\"black\" stroke=\"black\" points=\"958.87,-104 968.87,-100.5 958.87,-97 958.87,-104\"/>\n</g>\n<!-- 132549672888656 -->\n<g id=\"node3\" class=\"node\">\n<title>132549672888656</title>\n<polygon fill=\"none\" stroke=\"black\" points=\"657.5,-110.5 657.5,-146.5 839.5,-146.5 839.5,-110.5 657.5,-110.5\"/>\n<text text-anchor=\"middle\" x=\"667.5\" y=\"-124.8\" font-family=\"Times,serif\" font-size=\"14.00\"> </text>\n<polyline fill=\"none\" stroke=\"black\" points=\"677.5,-110.5 677.5,-146.5 \"/>\n<text text-anchor=\"middle\" x=\"717.5\" y=\"-124.8\" font-family=\"Times,serif\" font-size=\"14.00\">data 0.0000</text>\n<polyline fill=\"none\" stroke=\"black\" points=\"757.5,-110.5 757.5,-146.5 \"/>\n<text text-anchor=\"middle\" x=\"798.5\" y=\"-124.8\" font-family=\"Times,serif\" font-size=\"14.00\">grad 1.0000</text>\n</g>\n<!-- 132549672888656&#45;&gt;132549672893984+ -->\n<g id=\"edge2\" class=\"edge\">\n<title>132549672888656&#45;&gt;132549672893984+</title>\n<path fill=\"none\" stroke=\"black\" d=\"M839.5,-112.29C850.24,-110.36 860.66,-108.48 869.91,-106.82\"/>\n<polygon fill=\"black\" stroke=\"black\" points=\"870.59,-110.25 879.81,-105.04 869.35,-103.36 870.59,-110.25\"/>\n</g>\n<!-- 132549672888656+ -->\n<g id=\"node4\" class=\"node\">\n<title>132549672888656+</title>\n<ellipse fill=\"none\" stroke=\"black\" cx=\"591\" cy=\"-128.5\" rx=\"27\" ry=\"18\"/>\n<text text-anchor=\"middle\" x=\"591\" y=\"-124.8\" font-family=\"Times,serif\" font-size=\"14.00\">+</text>\n</g>\n<!-- 132549672888656+&#45;&gt;132549672888656 -->\n<g id=\"edge3\" class=\"edge\">\n<title>132549672888656+&#45;&gt;132549672888656</title>\n<path fill=\"none\" stroke=\"black\" d=\"M618.03,-128.5C626.48,-128.5 636.42,-128.5 646.98,-128.5\"/>\n<polygon fill=\"black\" stroke=\"black\" points=\"647.27,-132 657.27,-128.5 647.27,-125 647.27,-132\"/>\n</g>\n<!-- 132549672890384 -->\n<g id=\"node5\" class=\"node\">\n<title>132549672890384</title>\n<polygon fill=\"none\" stroke=\"black\" points=\"335,-165.5 335,-201.5 522,-201.5 522,-165.5 335,-165.5\"/>\n<text text-anchor=\"middle\" x=\"345\" y=\"-179.8\" font-family=\"Times,serif\" font-size=\"14.00\"> </text>\n<polyline fill=\"none\" stroke=\"black\" points=\"355,-165.5 355,-201.5 \"/>\n<text text-anchor=\"middle\" x=\"397.5\" y=\"-179.8\" font-family=\"Times,serif\" font-size=\"14.00\">data &#45;4.0000</text>\n<polyline fill=\"none\" stroke=\"black\" points=\"440,-165.5 440,-201.5 \"/>\n<text text-anchor=\"middle\" x=\"481\" y=\"-179.8\" font-family=\"Times,serif\" font-size=\"14.00\">grad 1.0000</text>\n</g>\n<!-- 132549672890384&#45;&gt;132549672888656+ -->\n<g id=\"edge4\" class=\"edge\">\n<title>132549672890384&#45;&gt;132549672888656+</title>\n<path fill=\"none\" stroke=\"black\" d=\"M500.67,-165.42C509.93,-162.65 519.24,-159.66 528,-156.5 538.53,-152.71 549.75,-147.89 559.72,-143.32\"/>\n<polygon fill=\"black\" stroke=\"black\" points=\"561.25,-146.47 568.82,-139.06 558.28,-140.13 561.25,-146.47\"/>\n</g>\n<!-- 132549672890384* -->\n<g id=\"node6\" class=\"node\">\n<title>132549672890384*</title>\n<ellipse fill=\"none\" stroke=\"black\" cx=\"266\" cy=\"-183.5\" rx=\"27\" ry=\"18\"/>\n<text text-anchor=\"middle\" x=\"266\" y=\"-179.8\" font-family=\"Times,serif\" font-size=\"14.00\">*</text>\n</g>\n<!-- 132549672890384*&#45;&gt;132549672890384 -->\n<g id=\"edge5\" class=\"edge\">\n<title>132549672890384*&#45;&gt;132549672890384</title>\n<path fill=\"none\" stroke=\"black\" d=\"M293.14,-183.5C302.21,-183.5 313.01,-183.5 324.48,-183.5\"/>\n<polygon fill=\"black\" stroke=\"black\" points=\"324.71,-187 334.71,-183.5 324.71,-180 324.71,-187\"/>\n</g>\n<!-- 132549672879104 -->\n<g id=\"node7\" class=\"node\">\n<title>132549672879104</title>\n<polygon fill=\"none\" stroke=\"black\" points=\"1.5,-220.5 1.5,-256.5 201.5,-256.5 201.5,-220.5 1.5,-220.5\"/>\n<text text-anchor=\"middle\" x=\"18\" y=\"-234.8\" font-family=\"Times,serif\" font-size=\"14.00\">X1</text>\n<polyline fill=\"none\" stroke=\"black\" points=\"34.5,-220.5 34.5,-256.5 \"/>\n<text text-anchor=\"middle\" x=\"77\" y=\"-234.8\" font-family=\"Times,serif\" font-size=\"14.00\">data &#45;2.0000</text>\n<polyline fill=\"none\" stroke=\"black\" points=\"119.5,-220.5 119.5,-256.5 \"/>\n<text text-anchor=\"middle\" x=\"160.5\" y=\"-234.8\" font-family=\"Times,serif\" font-size=\"14.00\">grad 2.0000</text>\n</g>\n<!-- 132549672879104&#45;&gt;132549672890384* -->\n<g id=\"edge6\" class=\"edge\">\n<title>132549672879104&#45;&gt;132549672890384*</title>\n<path fill=\"none\" stroke=\"black\" d=\"M175.12,-220.49C184.57,-217.71 194.07,-214.69 203,-211.5 213.53,-207.73 224.76,-202.92 234.73,-198.35\"/>\n<polygon fill=\"black\" stroke=\"black\" points=\"236.26,-201.5 243.83,-194.09 233.29,-195.16 236.26,-201.5\"/>\n</g>\n<!-- 132549672891968 -->\n<g id=\"node8\" class=\"node\">\n<title>132549672891968</title>\n<polygon fill=\"none\" stroke=\"black\" points=\"0,-165.5 0,-201.5 203,-201.5 203,-165.5 0,-165.5\"/>\n<text text-anchor=\"middle\" x=\"18.5\" y=\"-179.8\" font-family=\"Times,serif\" font-size=\"14.00\">W1</text>\n<polyline fill=\"none\" stroke=\"black\" points=\"37,-165.5 37,-201.5 \"/>\n<text text-anchor=\"middle\" x=\"77\" y=\"-179.8\" font-family=\"Times,serif\" font-size=\"14.00\">data 2.0000</text>\n<polyline fill=\"none\" stroke=\"black\" points=\"117,-165.5 117,-201.5 \"/>\n<text text-anchor=\"middle\" x=\"160\" y=\"-179.8\" font-family=\"Times,serif\" font-size=\"14.00\">grad &#45;2.0000</text>\n</g>\n<!-- 132549672891968&#45;&gt;132549672890384* -->\n<g id=\"edge7\" class=\"edge\">\n<title>132549672891968&#45;&gt;132549672890384*</title>\n<path fill=\"none\" stroke=\"black\" d=\"M203.1,-183.5C212.12,-183.5 220.8,-183.5 228.66,-183.5\"/>\n<polygon fill=\"black\" stroke=\"black\" points=\"228.83,-187 238.83,-183.5 228.83,-180 228.83,-187\"/>\n</g>\n<!-- 132549672886064 -->\n<g id=\"node9\" class=\"node\">\n<title>132549672886064</title>\n<polygon fill=\"none\" stroke=\"black\" points=\"337.5,-110.5 337.5,-146.5 519.5,-146.5 519.5,-110.5 337.5,-110.5\"/>\n<text text-anchor=\"middle\" x=\"347.5\" y=\"-124.8\" font-family=\"Times,serif\" font-size=\"14.00\"> </text>\n<polyline fill=\"none\" stroke=\"black\" points=\"357.5,-110.5 357.5,-146.5 \"/>\n<text text-anchor=\"middle\" x=\"397.5\" y=\"-124.8\" font-family=\"Times,serif\" font-size=\"14.00\">data 4.0000</text>\n<polyline fill=\"none\" stroke=\"black\" points=\"437.5,-110.5 437.5,-146.5 \"/>\n<text text-anchor=\"middle\" x=\"478.5\" y=\"-124.8\" font-family=\"Times,serif\" font-size=\"14.00\">grad 1.0000</text>\n</g>\n<!-- 132549672886064&#45;&gt;132549672888656+ -->\n<g id=\"edge8\" class=\"edge\">\n<title>132549672886064&#45;&gt;132549672888656+</title>\n<path fill=\"none\" stroke=\"black\" d=\"M519.6,-128.5C531.59,-128.5 543.28,-128.5 553.58,-128.5\"/>\n<polygon fill=\"black\" stroke=\"black\" points=\"553.76,-132 563.76,-128.5 553.76,-125 553.76,-132\"/>\n</g>\n<!-- 132549672886064* -->\n<g id=\"node10\" class=\"node\">\n<title>132549672886064*</title>\n<ellipse fill=\"none\" stroke=\"black\" cx=\"266\" cy=\"-128.5\" rx=\"27\" ry=\"18\"/>\n<text text-anchor=\"middle\" x=\"266\" y=\"-124.8\" font-family=\"Times,serif\" font-size=\"14.00\">*</text>\n</g>\n<!-- 132549672886064*&#45;&gt;132549672886064 -->\n<g id=\"edge9\" class=\"edge\">\n<title>132549672886064*&#45;&gt;132549672886064</title>\n<path fill=\"none\" stroke=\"black\" d=\"M293.14,-128.5C302.96,-128.5 314.79,-128.5 327.31,-128.5\"/>\n<polygon fill=\"black\" stroke=\"black\" points=\"327.48,-132 337.48,-128.5 327.48,-125 327.48,-132\"/>\n</g>\n<!-- 132549672890048 -->\n<g id=\"node11\" class=\"node\">\n<title>132549672890048</title>\n<polygon fill=\"none\" stroke=\"black\" points=\"2,-110.5 2,-146.5 201,-146.5 201,-110.5 2,-110.5\"/>\n<text text-anchor=\"middle\" x=\"20.5\" y=\"-124.8\" font-family=\"Times,serif\" font-size=\"14.00\">W2</text>\n<polyline fill=\"none\" stroke=\"black\" points=\"39,-110.5 39,-146.5 \"/>\n<text text-anchor=\"middle\" x=\"79\" y=\"-124.8\" font-family=\"Times,serif\" font-size=\"14.00\">data 2.0000</text>\n<polyline fill=\"none\" stroke=\"black\" points=\"119,-110.5 119,-146.5 \"/>\n<text text-anchor=\"middle\" x=\"160\" y=\"-124.8\" font-family=\"Times,serif\" font-size=\"14.00\">grad 2.0000</text>\n</g>\n<!-- 132549672890048&#45;&gt;132549672886064* -->\n<g id=\"edge10\" class=\"edge\">\n<title>132549672890048&#45;&gt;132549672886064*</title>\n<path fill=\"none\" stroke=\"black\" d=\"M201.24,-128.5C210.96,-128.5 220.33,-128.5 228.76,-128.5\"/>\n<polygon fill=\"black\" stroke=\"black\" points=\"228.88,-132 238.88,-128.5 228.88,-125 228.88,-132\"/>\n</g>\n<!-- 132549672889184 -->\n<g id=\"node12\" class=\"node\">\n<title>132549672889184</title>\n<polygon fill=\"none\" stroke=\"black\" points=\"4,-55.5 4,-91.5 199,-91.5 199,-55.5 4,-55.5\"/>\n<text text-anchor=\"middle\" x=\"20.5\" y=\"-69.8\" font-family=\"Times,serif\" font-size=\"14.00\">X2</text>\n<polyline fill=\"none\" stroke=\"black\" points=\"37,-55.5 37,-91.5 \"/>\n<text text-anchor=\"middle\" x=\"77\" y=\"-69.8\" font-family=\"Times,serif\" font-size=\"14.00\">data 2.0000</text>\n<polyline fill=\"none\" stroke=\"black\" points=\"117,-55.5 117,-91.5 \"/>\n<text text-anchor=\"middle\" x=\"158\" y=\"-69.8\" font-family=\"Times,serif\" font-size=\"14.00\">grad 2.0000</text>\n</g>\n<!-- 132549672889184&#45;&gt;132549672886064* -->\n<g id=\"edge11\" class=\"edge\">\n<title>132549672889184&#45;&gt;132549672886064*</title>\n<path fill=\"none\" stroke=\"black\" d=\"M175.12,-91.51C184.57,-94.29 194.07,-97.31 203,-100.5 213.53,-104.27 224.76,-109.08 234.73,-113.65\"/>\n<polygon fill=\"black\" stroke=\"black\" points=\"233.29,-116.84 243.83,-117.91 236.26,-110.5 233.29,-116.84\"/>\n</g>\n<!-- 132549672882416 -->\n<g id=\"node13\" class=\"node\">\n<title>132549672882416</title>\n<polygon fill=\"none\" stroke=\"black\" points=\"654,-55.5 654,-91.5 843,-91.5 843,-55.5 654,-55.5\"/>\n<text text-anchor=\"middle\" x=\"664\" y=\"-69.8\" font-family=\"Times,serif\" font-size=\"14.00\"> </text>\n<polyline fill=\"none\" stroke=\"black\" points=\"674,-55.5 674,-91.5 \"/>\n<text text-anchor=\"middle\" x=\"717.5\" y=\"-69.8\" font-family=\"Times,serif\" font-size=\"14.00\">data 12.0000</text>\n<polyline fill=\"none\" stroke=\"black\" points=\"761,-55.5 761,-91.5 \"/>\n<text text-anchor=\"middle\" x=\"802\" y=\"-69.8\" font-family=\"Times,serif\" font-size=\"14.00\">grad 1.0000</text>\n</g>\n<!-- 132549672882416&#45;&gt;132549672893984+ -->\n<g id=\"edge12\" class=\"edge\">\n<title>132549672882416&#45;&gt;132549672893984+</title>\n<path fill=\"none\" stroke=\"black\" d=\"M843.1,-89.75C852.4,-91.37 861.38,-92.93 869.49,-94.33\"/>\n<polygon fill=\"black\" stroke=\"black\" points=\"869.14,-97.83 879.59,-96.09 870.34,-90.93 869.14,-97.83\"/>\n</g>\n<!-- 132549672882416* -->\n<g id=\"node14\" class=\"node\">\n<title>132549672882416*</title>\n<ellipse fill=\"none\" stroke=\"black\" cx=\"591\" cy=\"-73.5\" rx=\"27\" ry=\"18\"/>\n<text text-anchor=\"middle\" x=\"591\" y=\"-69.8\" font-family=\"Times,serif\" font-size=\"14.00\">*</text>\n</g>\n<!-- 132549672882416*&#45;&gt;132549672882416 -->\n<g id=\"edge13\" class=\"edge\">\n<title>132549672882416*&#45;&gt;132549672882416</title>\n<path fill=\"none\" stroke=\"black\" d=\"M618.03,-73.5C625.66,-73.5 634.52,-73.5 643.94,-73.5\"/>\n<polygon fill=\"black\" stroke=\"black\" points=\"643.94,-77 653.94,-73.5 643.94,-70 643.94,-77\"/>\n</g>\n<!-- 132549672882992 -->\n<g id=\"node15\" class=\"node\">\n<title>132549672882992</title>\n<polygon fill=\"none\" stroke=\"black\" points=\"329,-55.5 329,-91.5 528,-91.5 528,-55.5 329,-55.5\"/>\n<text text-anchor=\"middle\" x=\"347.5\" y=\"-69.8\" font-family=\"Times,serif\" font-size=\"14.00\">W3</text>\n<polyline fill=\"none\" stroke=\"black\" points=\"366,-55.5 366,-91.5 \"/>\n<text text-anchor=\"middle\" x=\"406\" y=\"-69.8\" font-family=\"Times,serif\" font-size=\"14.00\">data 2.0000</text>\n<polyline fill=\"none\" stroke=\"black\" points=\"446,-55.5 446,-91.5 \"/>\n<text text-anchor=\"middle\" x=\"487\" y=\"-69.8\" font-family=\"Times,serif\" font-size=\"14.00\">grad 6.0000</text>\n</g>\n<!-- 132549672882992&#45;&gt;132549672882416* -->\n<g id=\"edge14\" class=\"edge\">\n<title>132549672882992&#45;&gt;132549672882416*</title>\n<path fill=\"none\" stroke=\"black\" d=\"M528.41,-73.5C537.36,-73.5 545.99,-73.5 553.82,-73.5\"/>\n<polygon fill=\"black\" stroke=\"black\" points=\"553.93,-77 563.93,-73.5 553.93,-70 553.93,-77\"/>\n</g>\n<!-- 132549672883424 -->\n<g id=\"node16\" class=\"node\">\n<title>132549672883424</title>\n<polygon fill=\"none\" stroke=\"black\" points=\"331,-0.5 331,-36.5 526,-36.5 526,-0.5 331,-0.5\"/>\n<text text-anchor=\"middle\" x=\"347.5\" y=\"-14.8\" font-family=\"Times,serif\" font-size=\"14.00\">X3</text>\n<polyline fill=\"none\" stroke=\"black\" points=\"364,-0.5 364,-36.5 \"/>\n<text text-anchor=\"middle\" x=\"404\" y=\"-14.8\" font-family=\"Times,serif\" font-size=\"14.00\">data 6.0000</text>\n<polyline fill=\"none\" stroke=\"black\" points=\"444,-0.5 444,-36.5 \"/>\n<text text-anchor=\"middle\" x=\"485\" y=\"-14.8\" font-family=\"Times,serif\" font-size=\"14.00\">grad 2.0000</text>\n</g>\n<!-- 132549672883424&#45;&gt;132549672882416* -->\n<g id=\"edge15\" class=\"edge\">\n<title>132549672883424&#45;&gt;132549672882416*</title>\n<path fill=\"none\" stroke=\"black\" d=\"M500.67,-36.58C509.93,-39.35 519.24,-42.34 528,-45.5 538.53,-49.29 549.75,-54.11 559.72,-58.68\"/>\n<polygon fill=\"black\" stroke=\"black\" points=\"558.28,-61.87 568.82,-62.94 561.25,-55.53 558.28,-61.87\"/>\n</g>\n</g>\n</svg>\n",
            "text/plain": [
              "<graphviz.graphs.Digraph at 0x788da02ae9e0>"
            ]
          },
          "metadata": {},
          "execution_count": 18
        }
      ]
    },
    {
      "cell_type": "code",
      "source": [
        "class Neuron:\n",
        "    def __init__(self, nin):\n",
        "        self.w = [Value(random.uniform(-1,1)) for _ in range(nin)]\n",
        "        self.b = Value(random.uniform(-1,1))\n",
        "\n",
        "    def __call__(self, x):\n",
        "        act = sum(wi*xi for wi, xi in zip(self.w, x))+ self.b\n",
        "        out = act.relu()\n",
        "        return out\n"
      ],
      "metadata": {
        "id": "_JfcqUxbTf6w"
      },
      "execution_count": 19,
      "outputs": []
    },
    {
      "cell_type": "code",
      "source": [
        "x = [2.0, 3.0]\n",
        "n = Neuron(2)\n",
        "n(x)"
      ],
      "metadata": {
        "colab": {
          "base_uri": "https://localhost:8080/"
        },
        "id": "HE-zqcGzUiCu",
        "outputId": "c7eea059-2e8a-4a00-a313-a273345a663f"
      },
      "execution_count": 25,
      "outputs": [
        {
          "output_type": "execute_result",
          "data": {
            "text/plain": [
              "Value(data=4.0507144656286345)"
            ]
          },
          "metadata": {},
          "execution_count": 25
        }
      ]
    }
  ]
}