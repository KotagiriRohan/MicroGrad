{
  "nbformat": 4,
  "nbformat_minor": 0,
  "metadata": {
    "colab": {
      "provenance": [],
      "authorship_tag": "ABX9TyM6S6NSBBhUaFi/a4GNalnW",
      "include_colab_link": true
    },
    "kernelspec": {
      "name": "python3",
      "display_name": "Python 3"
    },
    "language_info": {
      "name": "python"
    }
  },
  "cells": [
    {
      "cell_type": "markdown",
      "metadata": {
        "id": "view-in-github",
        "colab_type": "text"
      },
      "source": [
        "<a href=\"https://colab.research.google.com/github/KotagiriRohan/MicroGrad/blob/main/Micro_gradient_from_scratch.ipynb\" target=\"_parent\"><img src=\"https://colab.research.google.com/assets/colab-badge.svg\" alt=\"Open In Colab\"/></a>"
      ]
    },
    {
      "cell_type": "code",
      "execution_count": 1,
      "metadata": {
        "id": "vAi8JO8B2DJ1"
      },
      "outputs": [],
      "source": [
        "import math\n",
        "import numpy as np\n",
        "import matplotlib.pyplot as plt\n",
        "import graphviz"
      ]
    },
    {
      "cell_type": "code",
      "source": [
        "def draw_graph(root):\n",
        "    dot = graphviz.Digraph(comment=\"Connection Graph\", graph_attr={'rankdir': 'LR'})\n",
        "    nodes = set()\n",
        "\n",
        "    def build(node):\n",
        "        if node not in nodes:\n",
        "            nodes.add(node)\n",
        "            dot.node(name=str(id(node)), label=\"{%s| data %.4f | grad %.4f }\" % (node.lable,node.data, node.grad), shape='record')\n",
        "            if node.op:\n",
        "                dot.node(name=str(id(node)) + node.op, label=node.op)\n",
        "                dot.edge(str(id(node)) + node.op, str(id(node)))\n",
        "            for child in node.prev:\n",
        "                dot.edge(str(id(child)), str(id(node)) + node.op)\n",
        "                build(child)\n",
        "\n",
        "    build(root)\n",
        "    return dot\n",
        "\n",
        "\n",
        "class Value:\n",
        "    def __init__(self, data, children=(), op='', lable=''):\n",
        "        self.data = data\n",
        "        self.prev = set(children)\n",
        "        self.lable = lable\n",
        "        self.grad = 0.0\n",
        "        self._backward = lambda: None\n",
        "        self.op = op\n",
        "\n",
        "    def __add__(self, other):\n",
        "        other = other if isinstance(other, Value) else Value(other)\n",
        "        out = Value(self.data + other.data, (self, other), '+')\n",
        "\n",
        "        def _backward():\n",
        "            self.grad += 1.0 * out.grad\n",
        "            other.grad += 1.0 * out.grad\n",
        "\n",
        "        out._backward = _backward\n",
        "        return out\n",
        "\n",
        "    def __sub__(self, other):  # self - other\n",
        "        return self + (-other)\n",
        "\n",
        "    def __mul__(self, other):\n",
        "        other = other if isinstance(other, Value) else Value(other)\n",
        "        out = Value(self.data * other.data, (self, other), '*')\n",
        "\n",
        "        def _backward():\n",
        "            self.grad += other.data * out.grad\n",
        "            other.grad += self.data * out.grad\n",
        "\n",
        "        out._backward = _backward\n",
        "        return out\n",
        "\n",
        "    def __truediv__(self, other):  # self / other\n",
        "        return self * other ** -1\n",
        "\n",
        "    def __pow__(self, power, modulo=None):\n",
        "        assert isinstance(power, (int, float)), \"only supporting int/float powers for now\"\n",
        "        out = Value(self.data ** power, (self,), f'**{power}')\n",
        "\n",
        "        def _backward():\n",
        "            self.grad += (power * self.data**(power-1)) * out.grad\n",
        "\n",
        "        out._backward = _backward\n",
        "        return out\n",
        "\n",
        "    def __neg__(self):  # -self\n",
        "        return self * Value(-1, lable=\"negitive\")\n",
        "\n",
        "    def __radd__(self, other): # other + self\n",
        "        return self + other\n",
        "\n",
        "    def __rsub__(self, other): # other - self\n",
        "        return other + (-self)\n",
        "\n",
        "    def __rmul__(self, other):\n",
        "        return self * other\n",
        "\n",
        "    def __rtruediv__(self, other): # other / self\n",
        "        return other * self**-1\n",
        "\n",
        "    def __repr__(self):\n",
        "        return f\"Value(data={self.data}, children={self.prev})\"\n",
        "\n",
        "    def relu(self):\n",
        "        out = Value(0 if self.data < 0 else self.data, (self,), 'ReLU')\n",
        "\n",
        "        def _backward():\n",
        "            self.grad += (out.data > 0) * out.grad\n",
        "        out._backward = _backward\n",
        "\n",
        "        return out\n",
        "\n",
        "    def backward(self):\n",
        "\n",
        "        # topological order all of the children in the graph\n",
        "        topo = []\n",
        "        visited = set()\n",
        "        def build_topo(v):\n",
        "            if v not in visited:\n",
        "                visited.add(v)\n",
        "                for child in v.prev:\n",
        "                    build_topo(child)\n",
        "                topo.append(v)\n",
        "        build_topo(self)\n",
        "\n",
        "        # go one variable at a time and apply the chain rule to get its gradient\n",
        "        self.grad = 1\n",
        "        for v in reversed(topo):\n",
        "            v._backward()\n",
        "\n"
      ],
      "metadata": {
        "id": "CPCPTfTLLDon"
      },
      "execution_count": 13,
      "outputs": []
    },
    {
      "cell_type": "code",
      "source": [
        "x = -Value(2, lable=\"X1\") / Value(4,lable=\"X2\")\n",
        "y = x + x\n",
        "draw_graph(y)"
      ],
      "metadata": {
        "colab": {
          "base_uri": "https://localhost:8080/",
          "height": 228
        },
        "id": "efQJvlVkLIYX",
        "outputId": "87f4e1b5-9ff2-42fb-ce5f-49e0bc66b7f9"
      },
      "execution_count": 19,
      "outputs": [
        {
          "output_type": "execute_result",
          "data": {
            "image/svg+xml": "<?xml version=\"1.0\" encoding=\"UTF-8\" standalone=\"no\"?>\n<!DOCTYPE svg PUBLIC \"-//W3C//DTD SVG 1.1//EN\"\n \"http://www.w3.org/Graphics/SVG/1.1/DTD/svg11.dtd\">\n<!-- Generated by graphviz version 2.43.0 (0)\n -->\n<!-- Title: %3 Pages: 1 -->\n<svg width=\"1174pt\" height=\"155pt\"\n viewBox=\"0.00 0.00 1174.00 155.00\" xmlns=\"http://www.w3.org/2000/svg\" xmlns:xlink=\"http://www.w3.org/1999/xlink\">\n<g id=\"graph0\" class=\"graph\" transform=\"scale(1 1) rotate(0) translate(4 151)\">\n<title>%3</title>\n<polygon fill=\"white\" stroke=\"transparent\" points=\"-4,4 -4,-151 1170,-151 1170,4 -4,4\"/>\n<!-- 138599590265088 -->\n<g id=\"node1\" class=\"node\">\n<title>138599590265088</title>\n<polygon fill=\"none\" stroke=\"black\" points=\"979,-27.5 979,-63.5 1166,-63.5 1166,-27.5 979,-27.5\"/>\n<text text-anchor=\"middle\" x=\"989\" y=\"-41.8\" font-family=\"Times,serif\" font-size=\"14.00\"> </text>\n<polyline fill=\"none\" stroke=\"black\" points=\"999,-27.5 999,-63.5 \"/>\n<text text-anchor=\"middle\" x=\"1041.5\" y=\"-41.8\" font-family=\"Times,serif\" font-size=\"14.00\">data &#45;1.0000</text>\n<polyline fill=\"none\" stroke=\"black\" points=\"1084,-27.5 1084,-63.5 \"/>\n<text text-anchor=\"middle\" x=\"1125\" y=\"-41.8\" font-family=\"Times,serif\" font-size=\"14.00\">grad 0.0000</text>\n</g>\n<!-- 138599590265088+ -->\n<g id=\"node2\" class=\"node\">\n<title>138599590265088+</title>\n<ellipse fill=\"none\" stroke=\"black\" cx=\"916\" cy=\"-45.5\" rx=\"27\" ry=\"18\"/>\n<text text-anchor=\"middle\" x=\"916\" y=\"-41.8\" font-family=\"Times,serif\" font-size=\"14.00\">+</text>\n</g>\n<!-- 138599590265088+&#45;&gt;138599590265088 -->\n<g id=\"edge1\" class=\"edge\">\n<title>138599590265088+&#45;&gt;138599590265088</title>\n<path fill=\"none\" stroke=\"black\" d=\"M943.21,-45.5C950.73,-45.5 959.43,-45.5 968.67,-45.5\"/>\n<polygon fill=\"black\" stroke=\"black\" points=\"968.89,-49 978.89,-45.5 968.89,-42 968.89,-49\"/>\n</g>\n<!-- 138599590279056 -->\n<g id=\"node3\" class=\"node\">\n<title>138599590279056</title>\n<polygon fill=\"none\" stroke=\"black\" points=\"666,-27.5 666,-63.5 853,-63.5 853,-27.5 666,-27.5\"/>\n<text text-anchor=\"middle\" x=\"676\" y=\"-41.8\" font-family=\"Times,serif\" font-size=\"14.00\"> </text>\n<polyline fill=\"none\" stroke=\"black\" points=\"686,-27.5 686,-63.5 \"/>\n<text text-anchor=\"middle\" x=\"728.5\" y=\"-41.8\" font-family=\"Times,serif\" font-size=\"14.00\">data &#45;0.5000</text>\n<polyline fill=\"none\" stroke=\"black\" points=\"771,-27.5 771,-63.5 \"/>\n<text text-anchor=\"middle\" x=\"812\" y=\"-41.8\" font-family=\"Times,serif\" font-size=\"14.00\">grad 0.0000</text>\n</g>\n<!-- 138599590279056&#45;&gt;138599590265088+ -->\n<g id=\"edge2\" class=\"edge\">\n<title>138599590279056&#45;&gt;138599590265088+</title>\n<path fill=\"none\" stroke=\"black\" d=\"M853.05,-45.5C862.06,-45.5 870.79,-45.5 878.7,-45.5\"/>\n<polygon fill=\"black\" stroke=\"black\" points=\"878.95,-49 888.95,-45.5 878.95,-42 878.95,-49\"/>\n</g>\n<!-- 138599590279056* -->\n<g id=\"node4\" class=\"node\">\n<title>138599590279056*</title>\n<ellipse fill=\"none\" stroke=\"black\" cx=\"603\" cy=\"-45.5\" rx=\"27\" ry=\"18\"/>\n<text text-anchor=\"middle\" x=\"603\" y=\"-41.8\" font-family=\"Times,serif\" font-size=\"14.00\">*</text>\n</g>\n<!-- 138599590279056*&#45;&gt;138599590279056 -->\n<g id=\"edge3\" class=\"edge\">\n<title>138599590279056*&#45;&gt;138599590279056</title>\n<path fill=\"none\" stroke=\"black\" d=\"M630.21,-45.5C637.73,-45.5 646.43,-45.5 655.67,-45.5\"/>\n<polygon fill=\"black\" stroke=\"black\" points=\"655.89,-49 665.89,-45.5 655.89,-42 655.89,-49\"/>\n</g>\n<!-- 138599590276608 -->\n<g id=\"node5\" class=\"node\">\n<title>138599590276608</title>\n<polygon fill=\"none\" stroke=\"black\" points=\"353,-55.5 353,-91.5 540,-91.5 540,-55.5 353,-55.5\"/>\n<text text-anchor=\"middle\" x=\"363\" y=\"-69.8\" font-family=\"Times,serif\" font-size=\"14.00\"> </text>\n<polyline fill=\"none\" stroke=\"black\" points=\"373,-55.5 373,-91.5 \"/>\n<text text-anchor=\"middle\" x=\"415.5\" y=\"-69.8\" font-family=\"Times,serif\" font-size=\"14.00\">data &#45;2.0000</text>\n<polyline fill=\"none\" stroke=\"black\" points=\"458,-55.5 458,-91.5 \"/>\n<text text-anchor=\"middle\" x=\"499\" y=\"-69.8\" font-family=\"Times,serif\" font-size=\"14.00\">grad 0.0000</text>\n</g>\n<!-- 138599590276608&#45;&gt;138599590279056* -->\n<g id=\"edge4\" class=\"edge\">\n<title>138599590276608&#45;&gt;138599590279056*</title>\n<path fill=\"none\" stroke=\"black\" d=\"M540.05,-56.73C549.54,-55.01 558.71,-53.35 566.95,-51.85\"/>\n<polygon fill=\"black\" stroke=\"black\" points=\"567.64,-55.28 576.85,-50.06 566.39,-48.4 567.64,-55.28\"/>\n</g>\n<!-- 138599590276608* -->\n<g id=\"node6\" class=\"node\">\n<title>138599590276608*</title>\n<ellipse fill=\"none\" stroke=\"black\" cx=\"290\" cy=\"-73.5\" rx=\"27\" ry=\"18\"/>\n<text text-anchor=\"middle\" x=\"290\" y=\"-69.8\" font-family=\"Times,serif\" font-size=\"14.00\">*</text>\n</g>\n<!-- 138599590276608*&#45;&gt;138599590276608 -->\n<g id=\"edge5\" class=\"edge\">\n<title>138599590276608*&#45;&gt;138599590276608</title>\n<path fill=\"none\" stroke=\"black\" d=\"M317.21,-73.5C324.73,-73.5 333.43,-73.5 342.67,-73.5\"/>\n<polygon fill=\"black\" stroke=\"black\" points=\"342.89,-77 352.89,-73.5 342.89,-70 342.89,-77\"/>\n</g>\n<!-- 138599590280592 -->\n<g id=\"node7\" class=\"node\">\n<title>138599590280592</title>\n<polygon fill=\"none\" stroke=\"black\" points=\"16,-110.5 16,-146.5 211,-146.5 211,-110.5 16,-110.5\"/>\n<text text-anchor=\"middle\" x=\"32.5\" y=\"-124.8\" font-family=\"Times,serif\" font-size=\"14.00\">X1</text>\n<polyline fill=\"none\" stroke=\"black\" points=\"49,-110.5 49,-146.5 \"/>\n<text text-anchor=\"middle\" x=\"89\" y=\"-124.8\" font-family=\"Times,serif\" font-size=\"14.00\">data 2.0000</text>\n<polyline fill=\"none\" stroke=\"black\" points=\"129,-110.5 129,-146.5 \"/>\n<text text-anchor=\"middle\" x=\"170\" y=\"-124.8\" font-family=\"Times,serif\" font-size=\"14.00\">grad 0.0000</text>\n</g>\n<!-- 138599590280592&#45;&gt;138599590276608* -->\n<g id=\"edge6\" class=\"edge\">\n<title>138599590280592&#45;&gt;138599590276608*</title>\n<path fill=\"none\" stroke=\"black\" d=\"M197.65,-110.42C207.62,-107.71 217.59,-104.72 227,-101.5 237.67,-97.85 249,-93.02 259.03,-88.41\"/>\n<polygon fill=\"black\" stroke=\"black\" points=\"260.62,-91.53 268.17,-84.1 257.63,-85.2 260.62,-91.53\"/>\n</g>\n<!-- 138599590276560 -->\n<g id=\"node8\" class=\"node\">\n<title>138599590276560</title>\n<polygon fill=\"none\" stroke=\"black\" points=\"0,-55.5 0,-91.5 227,-91.5 227,-55.5 0,-55.5\"/>\n<text text-anchor=\"middle\" x=\"30\" y=\"-69.8\" font-family=\"Times,serif\" font-size=\"14.00\">negitive</text>\n<polyline fill=\"none\" stroke=\"black\" points=\"60,-55.5 60,-91.5 \"/>\n<text text-anchor=\"middle\" x=\"102.5\" y=\"-69.8\" font-family=\"Times,serif\" font-size=\"14.00\">data &#45;1.0000</text>\n<polyline fill=\"none\" stroke=\"black\" points=\"145,-55.5 145,-91.5 \"/>\n<text text-anchor=\"middle\" x=\"186\" y=\"-69.8\" font-family=\"Times,serif\" font-size=\"14.00\">grad 0.0000</text>\n</g>\n<!-- 138599590276560&#45;&gt;138599590276608* -->\n<g id=\"edge7\" class=\"edge\">\n<title>138599590276560&#45;&gt;138599590276608*</title>\n<path fill=\"none\" stroke=\"black\" d=\"M227.48,-73.5C236.49,-73.5 245.09,-73.5 252.87,-73.5\"/>\n<polygon fill=\"black\" stroke=\"black\" points=\"252.91,-77 262.91,-73.5 252.91,-70 252.91,-77\"/>\n</g>\n<!-- 138599590277520 -->\n<g id=\"node9\" class=\"node\">\n<title>138599590277520</title>\n<polygon fill=\"none\" stroke=\"black\" points=\"355.5,-0.5 355.5,-36.5 537.5,-36.5 537.5,-0.5 355.5,-0.5\"/>\n<text text-anchor=\"middle\" x=\"365.5\" y=\"-14.8\" font-family=\"Times,serif\" font-size=\"14.00\"> </text>\n<polyline fill=\"none\" stroke=\"black\" points=\"375.5,-0.5 375.5,-36.5 \"/>\n<text text-anchor=\"middle\" x=\"415.5\" y=\"-14.8\" font-family=\"Times,serif\" font-size=\"14.00\">data 0.2500</text>\n<polyline fill=\"none\" stroke=\"black\" points=\"455.5,-0.5 455.5,-36.5 \"/>\n<text text-anchor=\"middle\" x=\"496.5\" y=\"-14.8\" font-family=\"Times,serif\" font-size=\"14.00\">grad 0.0000</text>\n</g>\n<!-- 138599590277520&#45;&gt;138599590279056* -->\n<g id=\"edge8\" class=\"edge\">\n<title>138599590277520&#45;&gt;138599590279056*</title>\n<path fill=\"none\" stroke=\"black\" d=\"M537.82,-34.28C548.07,-36.08 558.01,-37.81 566.88,-39.36\"/>\n<polygon fill=\"black\" stroke=\"black\" points=\"566.3,-42.81 576.75,-41.09 567.5,-35.92 566.3,-42.81\"/>\n</g>\n<!-- 138599590277520**&#45;1 -->\n<g id=\"node10\" class=\"node\">\n<title>138599590277520**&#45;1</title>\n<ellipse fill=\"none\" stroke=\"black\" cx=\"290\" cy=\"-18.5\" rx=\"27\" ry=\"18\"/>\n<text text-anchor=\"middle\" x=\"290\" y=\"-14.8\" font-family=\"Times,serif\" font-size=\"14.00\">**&#45;1</text>\n</g>\n<!-- 138599590277520**&#45;1&#45;&gt;138599590277520 -->\n<g id=\"edge9\" class=\"edge\">\n<title>138599590277520**&#45;1&#45;&gt;138599590277520</title>\n<path fill=\"none\" stroke=\"black\" d=\"M317.21,-18.5C325.34,-18.5 334.85,-18.5 344.94,-18.5\"/>\n<polygon fill=\"black\" stroke=\"black\" points=\"345.19,-22 355.19,-18.5 345.19,-15 345.19,-22\"/>\n</g>\n<!-- 138599590265472 -->\n<g id=\"node11\" class=\"node\">\n<title>138599590265472</title>\n<polygon fill=\"none\" stroke=\"black\" points=\"16,-0.5 16,-36.5 211,-36.5 211,-0.5 16,-0.5\"/>\n<text text-anchor=\"middle\" x=\"32.5\" y=\"-14.8\" font-family=\"Times,serif\" font-size=\"14.00\">X2</text>\n<polyline fill=\"none\" stroke=\"black\" points=\"49,-0.5 49,-36.5 \"/>\n<text text-anchor=\"middle\" x=\"89\" y=\"-14.8\" font-family=\"Times,serif\" font-size=\"14.00\">data 4.0000</text>\n<polyline fill=\"none\" stroke=\"black\" points=\"129,-0.5 129,-36.5 \"/>\n<text text-anchor=\"middle\" x=\"170\" y=\"-14.8\" font-family=\"Times,serif\" font-size=\"14.00\">grad 0.0000</text>\n</g>\n<!-- 138599590265472&#45;&gt;138599590277520**&#45;1 -->\n<g id=\"edge10\" class=\"edge\">\n<title>138599590265472&#45;&gt;138599590277520**&#45;1</title>\n<path fill=\"none\" stroke=\"black\" d=\"M211.19,-18.5C225.91,-18.5 240.27,-18.5 252.56,-18.5\"/>\n<polygon fill=\"black\" stroke=\"black\" points=\"252.78,-22 262.78,-18.5 252.78,-15 252.78,-22\"/>\n</g>\n</g>\n</svg>\n",
            "text/plain": [
              "<graphviz.graphs.Digraph at 0x7e0e3b580550>"
            ]
          },
          "metadata": {},
          "execution_count": 19
        }
      ]
    },
    {
      "cell_type": "code",
      "source": [
        "y.backward()\n",
        "draw_graph(y)"
      ],
      "metadata": {
        "colab": {
          "base_uri": "https://localhost:8080/",
          "height": 228
        },
        "id": "j5ehH_5pCWNQ",
        "outputId": "7526956a-0f6f-458d-9aef-ade05bd5b929"
      },
      "execution_count": 20,
      "outputs": [
        {
          "output_type": "execute_result",
          "data": {
            "image/svg+xml": "<?xml version=\"1.0\" encoding=\"UTF-8\" standalone=\"no\"?>\n<!DOCTYPE svg PUBLIC \"-//W3C//DTD SVG 1.1//EN\"\n \"http://www.w3.org/Graphics/SVG/1.1/DTD/svg11.dtd\">\n<!-- Generated by graphviz version 2.43.0 (0)\n -->\n<!-- Title: %3 Pages: 1 -->\n<svg width=\"1174pt\" height=\"155pt\"\n viewBox=\"0.00 0.00 1174.00 155.00\" xmlns=\"http://www.w3.org/2000/svg\" xmlns:xlink=\"http://www.w3.org/1999/xlink\">\n<g id=\"graph0\" class=\"graph\" transform=\"scale(1 1) rotate(0) translate(4 151)\">\n<title>%3</title>\n<polygon fill=\"white\" stroke=\"transparent\" points=\"-4,4 -4,-151 1170,-151 1170,4 -4,4\"/>\n<!-- 138599590265088 -->\n<g id=\"node1\" class=\"node\">\n<title>138599590265088</title>\n<polygon fill=\"none\" stroke=\"black\" points=\"979,-27.5 979,-63.5 1166,-63.5 1166,-27.5 979,-27.5\"/>\n<text text-anchor=\"middle\" x=\"989\" y=\"-41.8\" font-family=\"Times,serif\" font-size=\"14.00\"> </text>\n<polyline fill=\"none\" stroke=\"black\" points=\"999,-27.5 999,-63.5 \"/>\n<text text-anchor=\"middle\" x=\"1041.5\" y=\"-41.8\" font-family=\"Times,serif\" font-size=\"14.00\">data &#45;1.0000</text>\n<polyline fill=\"none\" stroke=\"black\" points=\"1084,-27.5 1084,-63.5 \"/>\n<text text-anchor=\"middle\" x=\"1125\" y=\"-41.8\" font-family=\"Times,serif\" font-size=\"14.00\">grad 1.0000</text>\n</g>\n<!-- 138599590265088+ -->\n<g id=\"node2\" class=\"node\">\n<title>138599590265088+</title>\n<ellipse fill=\"none\" stroke=\"black\" cx=\"916\" cy=\"-45.5\" rx=\"27\" ry=\"18\"/>\n<text text-anchor=\"middle\" x=\"916\" y=\"-41.8\" font-family=\"Times,serif\" font-size=\"14.00\">+</text>\n</g>\n<!-- 138599590265088+&#45;&gt;138599590265088 -->\n<g id=\"edge1\" class=\"edge\">\n<title>138599590265088+&#45;&gt;138599590265088</title>\n<path fill=\"none\" stroke=\"black\" d=\"M943.21,-45.5C950.73,-45.5 959.43,-45.5 968.67,-45.5\"/>\n<polygon fill=\"black\" stroke=\"black\" points=\"968.89,-49 978.89,-45.5 968.89,-42 968.89,-49\"/>\n</g>\n<!-- 138599590279056 -->\n<g id=\"node3\" class=\"node\">\n<title>138599590279056</title>\n<polygon fill=\"none\" stroke=\"black\" points=\"666,-27.5 666,-63.5 853,-63.5 853,-27.5 666,-27.5\"/>\n<text text-anchor=\"middle\" x=\"676\" y=\"-41.8\" font-family=\"Times,serif\" font-size=\"14.00\"> </text>\n<polyline fill=\"none\" stroke=\"black\" points=\"686,-27.5 686,-63.5 \"/>\n<text text-anchor=\"middle\" x=\"728.5\" y=\"-41.8\" font-family=\"Times,serif\" font-size=\"14.00\">data &#45;0.5000</text>\n<polyline fill=\"none\" stroke=\"black\" points=\"771,-27.5 771,-63.5 \"/>\n<text text-anchor=\"middle\" x=\"812\" y=\"-41.8\" font-family=\"Times,serif\" font-size=\"14.00\">grad 1.0000</text>\n</g>\n<!-- 138599590279056&#45;&gt;138599590265088+ -->\n<g id=\"edge2\" class=\"edge\">\n<title>138599590279056&#45;&gt;138599590265088+</title>\n<path fill=\"none\" stroke=\"black\" d=\"M853.05,-45.5C862.06,-45.5 870.79,-45.5 878.7,-45.5\"/>\n<polygon fill=\"black\" stroke=\"black\" points=\"878.95,-49 888.95,-45.5 878.95,-42 878.95,-49\"/>\n</g>\n<!-- 138599590279056* -->\n<g id=\"node4\" class=\"node\">\n<title>138599590279056*</title>\n<ellipse fill=\"none\" stroke=\"black\" cx=\"603\" cy=\"-45.5\" rx=\"27\" ry=\"18\"/>\n<text text-anchor=\"middle\" x=\"603\" y=\"-41.8\" font-family=\"Times,serif\" font-size=\"14.00\">*</text>\n</g>\n<!-- 138599590279056*&#45;&gt;138599590279056 -->\n<g id=\"edge3\" class=\"edge\">\n<title>138599590279056*&#45;&gt;138599590279056</title>\n<path fill=\"none\" stroke=\"black\" d=\"M630.21,-45.5C637.73,-45.5 646.43,-45.5 655.67,-45.5\"/>\n<polygon fill=\"black\" stroke=\"black\" points=\"655.89,-49 665.89,-45.5 655.89,-42 655.89,-49\"/>\n</g>\n<!-- 138599590276608 -->\n<g id=\"node5\" class=\"node\">\n<title>138599590276608</title>\n<polygon fill=\"none\" stroke=\"black\" points=\"353,-55.5 353,-91.5 540,-91.5 540,-55.5 353,-55.5\"/>\n<text text-anchor=\"middle\" x=\"363\" y=\"-69.8\" font-family=\"Times,serif\" font-size=\"14.00\"> </text>\n<polyline fill=\"none\" stroke=\"black\" points=\"373,-55.5 373,-91.5 \"/>\n<text text-anchor=\"middle\" x=\"415.5\" y=\"-69.8\" font-family=\"Times,serif\" font-size=\"14.00\">data &#45;2.0000</text>\n<polyline fill=\"none\" stroke=\"black\" points=\"458,-55.5 458,-91.5 \"/>\n<text text-anchor=\"middle\" x=\"499\" y=\"-69.8\" font-family=\"Times,serif\" font-size=\"14.00\">grad 0.2500</text>\n</g>\n<!-- 138599590276608&#45;&gt;138599590279056* -->\n<g id=\"edge4\" class=\"edge\">\n<title>138599590276608&#45;&gt;138599590279056*</title>\n<path fill=\"none\" stroke=\"black\" d=\"M540.05,-56.73C549.54,-55.01 558.71,-53.35 566.95,-51.85\"/>\n<polygon fill=\"black\" stroke=\"black\" points=\"567.64,-55.28 576.85,-50.06 566.39,-48.4 567.64,-55.28\"/>\n</g>\n<!-- 138599590276608* -->\n<g id=\"node6\" class=\"node\">\n<title>138599590276608*</title>\n<ellipse fill=\"none\" stroke=\"black\" cx=\"290\" cy=\"-73.5\" rx=\"27\" ry=\"18\"/>\n<text text-anchor=\"middle\" x=\"290\" y=\"-69.8\" font-family=\"Times,serif\" font-size=\"14.00\">*</text>\n</g>\n<!-- 138599590276608*&#45;&gt;138599590276608 -->\n<g id=\"edge5\" class=\"edge\">\n<title>138599590276608*&#45;&gt;138599590276608</title>\n<path fill=\"none\" stroke=\"black\" d=\"M317.21,-73.5C324.73,-73.5 333.43,-73.5 342.67,-73.5\"/>\n<polygon fill=\"black\" stroke=\"black\" points=\"342.89,-77 352.89,-73.5 342.89,-70 342.89,-77\"/>\n</g>\n<!-- 138599590280592 -->\n<g id=\"node7\" class=\"node\">\n<title>138599590280592</title>\n<polygon fill=\"none\" stroke=\"black\" points=\"14,-110.5 14,-146.5 213,-146.5 213,-110.5 14,-110.5\"/>\n<text text-anchor=\"middle\" x=\"30.5\" y=\"-124.8\" font-family=\"Times,serif\" font-size=\"14.00\">X1</text>\n<polyline fill=\"none\" stroke=\"black\" points=\"47,-110.5 47,-146.5 \"/>\n<text text-anchor=\"middle\" x=\"87\" y=\"-124.8\" font-family=\"Times,serif\" font-size=\"14.00\">data 2.0000</text>\n<polyline fill=\"none\" stroke=\"black\" points=\"127,-110.5 127,-146.5 \"/>\n<text text-anchor=\"middle\" x=\"170\" y=\"-124.8\" font-family=\"Times,serif\" font-size=\"14.00\">grad &#45;0.2500</text>\n</g>\n<!-- 138599590280592&#45;&gt;138599590276608* -->\n<g id=\"edge6\" class=\"edge\">\n<title>138599590280592&#45;&gt;138599590276608*</title>\n<path fill=\"none\" stroke=\"black\" d=\"M197.65,-110.42C207.62,-107.71 217.59,-104.72 227,-101.5 237.67,-97.85 249,-93.02 259.03,-88.41\"/>\n<polygon fill=\"black\" stroke=\"black\" points=\"260.62,-91.53 268.17,-84.1 257.63,-85.2 260.62,-91.53\"/>\n</g>\n<!-- 138599590276560 -->\n<g id=\"node8\" class=\"node\">\n<title>138599590276560</title>\n<polygon fill=\"none\" stroke=\"black\" points=\"0,-55.5 0,-91.5 227,-91.5 227,-55.5 0,-55.5\"/>\n<text text-anchor=\"middle\" x=\"30\" y=\"-69.8\" font-family=\"Times,serif\" font-size=\"14.00\">negitive</text>\n<polyline fill=\"none\" stroke=\"black\" points=\"60,-55.5 60,-91.5 \"/>\n<text text-anchor=\"middle\" x=\"102.5\" y=\"-69.8\" font-family=\"Times,serif\" font-size=\"14.00\">data &#45;1.0000</text>\n<polyline fill=\"none\" stroke=\"black\" points=\"145,-55.5 145,-91.5 \"/>\n<text text-anchor=\"middle\" x=\"186\" y=\"-69.8\" font-family=\"Times,serif\" font-size=\"14.00\">grad 0.5000</text>\n</g>\n<!-- 138599590276560&#45;&gt;138599590276608* -->\n<g id=\"edge7\" class=\"edge\">\n<title>138599590276560&#45;&gt;138599590276608*</title>\n<path fill=\"none\" stroke=\"black\" d=\"M227.48,-73.5C236.49,-73.5 245.09,-73.5 252.87,-73.5\"/>\n<polygon fill=\"black\" stroke=\"black\" points=\"252.91,-77 262.91,-73.5 252.91,-70 252.91,-77\"/>\n</g>\n<!-- 138599590277520 -->\n<g id=\"node9\" class=\"node\">\n<title>138599590277520</title>\n<polygon fill=\"none\" stroke=\"black\" points=\"353.5,-0.5 353.5,-36.5 539.5,-36.5 539.5,-0.5 353.5,-0.5\"/>\n<text text-anchor=\"middle\" x=\"363.5\" y=\"-14.8\" font-family=\"Times,serif\" font-size=\"14.00\"> </text>\n<polyline fill=\"none\" stroke=\"black\" points=\"373.5,-0.5 373.5,-36.5 \"/>\n<text text-anchor=\"middle\" x=\"413.5\" y=\"-14.8\" font-family=\"Times,serif\" font-size=\"14.00\">data 0.2500</text>\n<polyline fill=\"none\" stroke=\"black\" points=\"453.5,-0.5 453.5,-36.5 \"/>\n<text text-anchor=\"middle\" x=\"496.5\" y=\"-14.8\" font-family=\"Times,serif\" font-size=\"14.00\">grad &#45;2.0000</text>\n</g>\n<!-- 138599590277520&#45;&gt;138599590279056* -->\n<g id=\"edge8\" class=\"edge\">\n<title>138599590277520&#45;&gt;138599590279056*</title>\n<path fill=\"none\" stroke=\"black\" d=\"M539.6,-34.6C549.15,-36.26 558.37,-37.88 566.68,-39.33\"/>\n<polygon fill=\"black\" stroke=\"black\" points=\"566.2,-42.8 576.65,-41.07 567.4,-35.9 566.2,-42.8\"/>\n</g>\n<!-- 138599590277520**&#45;1 -->\n<g id=\"node10\" class=\"node\">\n<title>138599590277520**&#45;1</title>\n<ellipse fill=\"none\" stroke=\"black\" cx=\"290\" cy=\"-18.5\" rx=\"27\" ry=\"18\"/>\n<text text-anchor=\"middle\" x=\"290\" y=\"-14.8\" font-family=\"Times,serif\" font-size=\"14.00\">**&#45;1</text>\n</g>\n<!-- 138599590277520**&#45;1&#45;&gt;138599590277520 -->\n<g id=\"edge9\" class=\"edge\">\n<title>138599590277520**&#45;1&#45;&gt;138599590277520</title>\n<path fill=\"none\" stroke=\"black\" d=\"M317.21,-18.5C324.88,-18.5 333.76,-18.5 343.2,-18.5\"/>\n<polygon fill=\"black\" stroke=\"black\" points=\"343.21,-22 353.21,-18.5 343.21,-15 343.21,-22\"/>\n</g>\n<!-- 138599590265472 -->\n<g id=\"node11\" class=\"node\">\n<title>138599590265472</title>\n<polygon fill=\"none\" stroke=\"black\" points=\"16,-0.5 16,-36.5 211,-36.5 211,-0.5 16,-0.5\"/>\n<text text-anchor=\"middle\" x=\"32.5\" y=\"-14.8\" font-family=\"Times,serif\" font-size=\"14.00\">X2</text>\n<polyline fill=\"none\" stroke=\"black\" points=\"49,-0.5 49,-36.5 \"/>\n<text text-anchor=\"middle\" x=\"89\" y=\"-14.8\" font-family=\"Times,serif\" font-size=\"14.00\">data 4.0000</text>\n<polyline fill=\"none\" stroke=\"black\" points=\"129,-0.5 129,-36.5 \"/>\n<text text-anchor=\"middle\" x=\"170\" y=\"-14.8\" font-family=\"Times,serif\" font-size=\"14.00\">grad 0.1250</text>\n</g>\n<!-- 138599590265472&#45;&gt;138599590277520**&#45;1 -->\n<g id=\"edge10\" class=\"edge\">\n<title>138599590265472&#45;&gt;138599590277520**&#45;1</title>\n<path fill=\"none\" stroke=\"black\" d=\"M211.19,-18.5C225.91,-18.5 240.27,-18.5 252.56,-18.5\"/>\n<polygon fill=\"black\" stroke=\"black\" points=\"252.78,-22 262.78,-18.5 252.78,-15 252.78,-22\"/>\n</g>\n</g>\n</svg>\n",
            "text/plain": [
              "<graphviz.graphs.Digraph at 0x7e0e3b580d00>"
            ]
          },
          "metadata": {},
          "execution_count": 20
        }
      ]
    }
  ]
}